{
 "cells": [
  {
   "cell_type": "markdown",
   "id": "608b594d-5e71-4034-a55e-ec16c61c5776",
   "metadata": {
    "jp-MarkdownHeadingCollapsed": true
   },
   "source": [
    "# 🚀 Houston, we have liftoff! 🛰️"
   ]
  },
  {
   "cell_type": "code",
   "execution_count": null,
   "id": "e04cb1af-ec82-40eb-884d-3522a1f05a0b",
   "metadata": {},
   "outputs": [],
   "source": [
    "import pandas as pd\n",
    "import numpy as np\n",
    "import seaborn as sns\n",
    "import matplotlib.pyplot as plt"
   ]
  },
  {
   "cell_type": "code",
   "execution_count": null,
   "id": "f51b5715-90ce-400b-9573-35326511c150",
   "metadata": {},
   "outputs": [],
   "source": [
    "eu = pd.read_csv(r\"C:\\Users\\datan\\OneDrive\\Desktop\\Capstone\\Exoplanets\\data\\everything_exoplanet_eu.csv\")"
   ]
  },
  {
   "cell_type": "code",
   "execution_count": null,
   "id": "e0357c05-198a-4e78-8c2b-d687508cac59",
   "metadata": {},
   "outputs": [],
   "source": [
    "eu.head(4)"
   ]
  },
  {
   "cell_type": "markdown",
   "id": "45d5de4b-327a-464b-822e-32d427a81692",
   "metadata": {
    "jp-MarkdownHeadingCollapsed": true
   },
   "source": [
    "# Cleaning 🧹"
   ]
  },
  {
   "cell_type": "code",
   "execution_count": null,
   "id": "eebcb102-a627-4fc7-b3b4-d53f5615d311",
   "metadata": {},
   "outputs": [],
   "source": [
    "eu.isnull().sum()"
   ]
  },
  {
   "cell_type": "code",
   "execution_count": null,
   "id": "91b71fe1-aa28-4968-ae32-a7979b3e510f",
   "metadata": {},
   "outputs": [],
   "source": [
    "eu.columns"
   ]
  },
  {
   "cell_type": "code",
   "execution_count": null,
   "id": "c2b9ec17-43d5-4d85-88e3-841d6a22af39",
   "metadata": {},
   "outputs": [],
   "source": [
    "# removing any unnecessary columns for my analysis\n",
    "\n",
    "eu.drop(['mass_error_min', 'mass_error_max',\n",
    "        'mass_sini', 'mass_sini_error_min', \n",
    "        'mass_sini_error_max', 'radius_error_min', \n",
    "        'radius_error_max', 'orbital_period_error_min', \n",
    "        'orbital_period_error_max', 'semi_major_axis_error_min',\n",
    "       'semi_major_axis_error_max', 'eccentricity_error_min',\n",
    "       'eccentricity_error_max', 'inclination_error_min',\n",
    "       'inclination_error_max', 'angular_distance', 'updated',\n",
    "       'omega', 'omega_error_min', 'omega_error_max', 'tperi',\n",
    "       'tperi_error_min', 'tperi_error_max', 'tconj', 'tconj_error_min',\n",
    "       'tconj_error_max', 'tzero_tr', 'tzero_tr_error_min',\n",
    "       'tzero_tr_error_max', 'tzero_tr_sec', 'tzero_tr_sec_error_min',\n",
    "       'tzero_tr_sec_error_max', 'lambda_angle', 'lambda_angle_error_min',\n",
    "       'lambda_angle_error_max', 'impact_parameter',\n",
    "       'impact_parameter_error_min', 'impact_parameter_error_max', 'tzero_vr',\n",
    "       'tzero_vr_error_min', 'tzero_vr_error_max', 'k', 'k_error_min',\n",
    "       'k_error_max', 'temp_calculated', 'temp_calculated_error_min',\n",
    "       'temp_calculated_error_max', 'temp_measured', 'hot_point_lon',\n",
    "       'geometric_albedo', 'geometric_albedo_error_min',\n",
    "       'geometric_albedo_error_max', 'log_g', 'publication', 'mass_measurement_type',\n",
    "        'radius_measurement_type', 'alternate_names',\n",
    "       'molecules', 'star_name', 'ra', 'dec', 'mag_v', 'mag_i', 'mag_j',\n",
    "       'mag_h', 'mag_k', 'star_distance_error_min',\n",
    "       'star_distance_error_max', 'star_metallicity',\n",
    "       'star_metallicity_error_min', 'star_metallicity_error_max', 'star_mass_error_min', \n",
    "        'star_mass_error_max', 'star_radius_error_min', 'star_radius_error_max', \n",
    "        'star_age', 'star_age_error_min', 'star_age_error_max', 'star_teff',\n",
    "       'star_teff_error_min', 'star_teff_error_max', 'star_detected_disc',\n",
    "       'star_magnetic_field', 'star_alternate_names'], axis=1, inplace=True)"
   ]
  },
  {
   "cell_type": "code",
   "execution_count": null,
   "id": "6bc7a477-6fd6-4081-bb29-206982e266c8",
   "metadata": {},
   "outputs": [],
   "source": [
    "eu.info()"
   ]
  },
  {
   "cell_type": "code",
   "execution_count": null,
   "id": "ae063e5b-48ed-4115-a1fd-17d96391c56b",
   "metadata": {},
   "outputs": [],
   "source": [
    "eu.isnull().sum()"
   ]
  },
  {
   "cell_type": "code",
   "execution_count": null,
   "id": "0fce184b-86c3-4425-9cf9-cfb15db2663b",
   "metadata": {},
   "outputs": [],
   "source": [
    "# replacing all nulls with zero\n",
    "\n",
    "eu.fillna(0, inplace=True)"
   ]
  },
  {
   "cell_type": "code",
   "execution_count": null,
   "id": "4b4acfb6-624d-4351-956e-c7bf50224b7b",
   "metadata": {},
   "outputs": [],
   "source": [
    "eu.isnull().sum()"
   ]
  },
  {
   "cell_type": "code",
   "execution_count": null,
   "id": "f076878f-acfc-4d3f-a127-955d25e7aa6f",
   "metadata": {},
   "outputs": [],
   "source": [
    "# cleaning the star_sp_type column"
   ]
  },
  {
   "cell_type": "code",
   "execution_count": null,
   "id": "d1f6be5b-ea09-4d38-9b99-9d286cbf015f",
   "metadata": {},
   "outputs": [],
   "source": [
    "eu['star_sp_type'].value_counts()"
   ]
  },
  {
   "cell_type": "code",
   "execution_count": null,
   "id": "5c1a5347-db36-4c70-a46a-cb74293667a0",
   "metadata": {},
   "outputs": [],
   "source": [
    "# fill NaN values with an empty string and changing the data type to string\n",
    "eu['star_sp_type'] = eu['star_sp_type'].fillna('')\n",
    "eu['star_sp_type'] = eu['star_sp_type'].astype(str)\n",
    "\n",
    "# defining the function to extract the first letter of the star type\n",
    "def simplify_star_type(star_sp_type):\n",
    "    return star_sp_type[0] if star_sp_type else 'Unknown'\n",
    "\n",
    "eu['star_type'] = eu['star_sp_type'].apply(simplify_star_type)"
   ]
  },
  {
   "cell_type": "code",
   "execution_count": null,
   "id": "8f5a2acb-013a-4016-9d75-d5f642c556e6",
   "metadata": {},
   "outputs": [],
   "source": [
    "eu['star_type'].value_counts()"
   ]
  },
  {
   "cell_type": "code",
   "execution_count": null,
   "id": "a3d9cecc-1cbe-4723-90cc-cfa558b934f2",
   "metadata": {},
   "outputs": [],
   "source": [
    "desired_star_types = ['O', 'B', 'A', 'F', 'G', 'K', 'M'] # Morgan-Keenan system simplified\n",
    "\n",
    "eu = eu[eu['star_type'].isin(desired_star_types)]"
   ]
  },
  {
   "cell_type": "code",
   "execution_count": null,
   "id": "3f4eccdb-3b98-4a21-8f32-109799766aa5",
   "metadata": {},
   "outputs": [],
   "source": [
    "eu['star_type'].value_counts()"
   ]
  },
  {
   "cell_type": "code",
   "execution_count": null,
   "id": "792acf59-600b-49b7-a5ea-ac5fe93d6065",
   "metadata": {},
   "outputs": [],
   "source": [
    "eu.info()"
   ]
  },
  {
   "cell_type": "code",
   "execution_count": null,
   "id": "ef0196c8-d6ea-4e79-baeb-609de3aa6249",
   "metadata": {},
   "outputs": [],
   "source": [
    "# Fixing the detection_type column to focus on the most effective ones\n",
    "main_types = ['Radial Velocity', 'Microlensing', 'Primary Transit', 'Imaging', 'Astrometry']\n",
    "\n",
    "# making the function to keep only the main detection types and remmove everything after the first comma\n",
    "def filter_main_types(detection_type):\n",
    "    for main_type in main_types:\n",
    "        if main_type in detection_type:\n",
    "            return main_type\n",
    "    return 'Other'\n",
    "\n",
    "eu['detection_type_filtered'] = eu['detection_type'].apply(lambda x: x.split(',')[0].strip())\n",
    "eu['detection_type_final'] = eu['detection_type_filtered'].apply(filter_main_types)\n",
    "\n",
    "print(eu[['detection_type', 'detection_type_final']])"
   ]
  },
  {
   "cell_type": "code",
   "execution_count": null,
   "id": "5c58ef8f-ede6-424d-93ca-1091bb8e29f2",
   "metadata": {},
   "outputs": [],
   "source": [
    "eu['detection_type_final'].value_counts() # need to plot everything but 'other'"
   ]
  },
  {
   "cell_type": "code",
   "execution_count": null,
   "id": "fe31ee7e-4007-4fe5-bb84-74cb5aed9226",
   "metadata": {},
   "outputs": [],
   "source": [
    "# removing rows with 'Other' in the detection_type column\n",
    "eu = eu[eu['detection_type_final'] != 'Other']"
   ]
  },
  {
   "cell_type": "code",
   "execution_count": null,
   "id": "e0d2ed56-9f6c-4107-af1e-7396f9212e62",
   "metadata": {},
   "outputs": [],
   "source": [
    "eu['detection_type_final'].value_counts() # need to plot everything but 'other'"
   ]
  },
  {
   "cell_type": "code",
   "execution_count": null,
   "id": "9e8a71f1-425a-489d-83d4-f903c0798900",
   "metadata": {},
   "outputs": [],
   "source": [
    "# removing any unnecessary columns\n",
    "\n",
    "eu.drop(['star_sp_type', 'detection_type', 'detection_type_filtered'], axis=1, inplace=True)"
   ]
  },
  {
   "cell_type": "code",
   "execution_count": null,
   "id": "d07809e4-ca56-46a9-b5b8-69ff08060bd5",
   "metadata": {},
   "outputs": [],
   "source": [
    "# fixing my year column"
   ]
  },
  {
   "cell_type": "code",
   "execution_count": null,
   "id": "714cf281-7724-4b5f-94c6-2db2f678de7d",
   "metadata": {},
   "outputs": [],
   "source": [
    "eu['discovered'].value_counts().head()"
   ]
  },
  {
   "cell_type": "code",
   "execution_count": null,
   "id": "6f41dc5a-310e-4be0-8c03-6cc692bc2029",
   "metadata": {},
   "outputs": [],
   "source": [
    "eu['discovered'] = eu['discovered'].apply(lambda x: int(x))"
   ]
  },
  {
   "cell_type": "code",
   "execution_count": null,
   "id": "c7ec6b13-06ea-4e7c-959c-c5f4db523a76",
   "metadata": {},
   "outputs": [],
   "source": [
    "eu['discovered'].dtype"
   ]
  },
  {
   "cell_type": "code",
   "execution_count": null,
   "id": "8b289c3b-a025-48b1-920b-7488a3a8123a",
   "metadata": {
    "scrolled": true
   },
   "outputs": [],
   "source": [
    "eu['discovered'].value_counts()"
   ]
  },
  {
   "cell_type": "code",
   "execution_count": null,
   "id": "748d1501-5c75-468f-88c4-9f6f6bf371e1",
   "metadata": {},
   "outputs": [],
   "source": [
    "# removing the yeear 2025 and 0\n",
    "eu = eu[(eu['discovered'] != 2025) & (eu['discovered'] != 0)]\n",
    "\n",
    "# coming back and removing every year before the year 2000\n",
    "eu = eu[eu['discovered'] >= 2000]"
   ]
  },
  {
   "cell_type": "code",
   "execution_count": null,
   "id": "7dec9318-104a-4e0d-b320-30334fb2a75c",
   "metadata": {},
   "outputs": [],
   "source": [
    "eu['discovered'].value_counts()"
   ]
  },
  {
   "cell_type": "code",
   "execution_count": null,
   "id": "2298f91b-07d5-4d02-98d5-be905e86f4e3",
   "metadata": {},
   "outputs": [],
   "source": [
    "# renaming columns\n",
    "\n",
    "eu = eu.rename(columns= {'name':'planet_name', 'mass':'planet_mass', 'radius':'planet_radius', 'detection_type_final':'detection_type', 'discovered':'year'})"
   ]
  },
  {
   "cell_type": "code",
   "execution_count": null,
   "id": "305ca513-74a7-413f-a2b2-c6c3e01f06e3",
   "metadata": {},
   "outputs": [],
   "source": [
    "eu.head(4) # now I have something to work with! woo hoo!"
   ]
  },
  {
   "cell_type": "code",
   "execution_count": null,
   "id": "864f8015-4e3b-4abe-a806-677da844541c",
   "metadata": {},
   "outputs": [],
   "source": [
    "# Saaving the DataFrame to a CSV file to use in PowerBI\n",
    "# eu.to_csv('pandasClean_exoplanetEU.csv', index=False)"
   ]
  },
  {
   "cell_type": "markdown",
   "id": "051ca215-92ef-42d8-99a2-49ddb82f65ce",
   "metadata": {
    "jp-MarkdownHeadingCollapsed": true
   },
   "source": [
    "# Adding Columns 🏛️"
   ]
  },
  {
   "cell_type": "code",
   "execution_count": null,
   "id": "e69f8ce8-217e-4088-9a3b-ed4e70c3ca83",
   "metadata": {},
   "outputs": [],
   "source": [
    "# Classifying exoplanets into categories based on their characteristics, such as: terrestrial planets, gas giants, and super-earths"
   ]
  },
  {
   "cell_type": "code",
   "execution_count": null,
   "id": "917e9a34-143e-40fd-a4ec-c7052bd01a85",
   "metadata": {},
   "outputs": [],
   "source": [
    "conditions = [\n",
    "    (eu['planet_mass'] < 0.1),\n",
    "    (eu['planet_mass'] >= 0.1) & (eu['planet_mass'] < 0.5),\n",
    "    (eu['planet_mass'] >= 0.5)\n",
    "]\n",
    "choices = ['Terrestrial', 'Super-Earth', 'Gas Giant']\n",
    "eu['planet_type'] = np.select(conditions, choices, default='Unknown')"
   ]
  },
  {
   "cell_type": "code",
   "execution_count": null,
   "id": "ec59ed63-8991-4f4f-803f-f06df88b27ca",
   "metadata": {},
   "outputs": [],
   "source": [
    "eu.head(4)"
   ]
  },
  {
   "cell_type": "code",
   "execution_count": null,
   "id": "2a2759e0-4d90-48b1-a317-55edb3dba20a",
   "metadata": {},
   "outputs": [],
   "source": []
  },
  {
   "cell_type": "code",
   "execution_count": null,
   "id": "b3a17f19-2f5f-44a4-8196-2daeb75e68ac",
   "metadata": {},
   "outputs": [],
   "source": [
    "# This categorizes exoplanets into 'Low Inclination', 'Medium Inclination', and 'High Inclination' based on their orbital inclinations."
   ]
  },
  {
   "cell_type": "code",
   "execution_count": null,
   "id": "b99adb5b-ba9a-40ec-ad76-427f681a54c1",
   "metadata": {},
   "outputs": [],
   "source": [
    "conditions_inclination = [\n",
    "    (eu['inclination'] < 10),\n",
    "    (eu['inclination'] >= 10) & (eu['inclination'] < 30),\n",
    "    (eu['inclination'] >= 30)\n",
    "]\n",
    "choices_inclination = ['Low Inclination', 'Medium Inclination', 'High Inclination']\n",
    "eu['inclination_category'] = np.select(conditions_inclination, choices_inclination, default='Unknown')"
   ]
  },
  {
   "cell_type": "code",
   "execution_count": null,
   "id": "6de96d77-99ac-4892-b99c-6e8ba9acf7ca",
   "metadata": {},
   "outputs": [],
   "source": [
    "# Proportion of exoplanets in each inclination category"
   ]
  },
  {
   "cell_type": "code",
   "execution_count": null,
   "id": "4c2c39f1-9814-4b49-b0bd-fa4cc01153f5",
   "metadata": {},
   "outputs": [],
   "source": [
    "eu.head(4)"
   ]
  },
  {
   "cell_type": "code",
   "execution_count": null,
   "id": "205f2390-52c6-4355-92a9-8d529b463537",
   "metadata": {},
   "outputs": [],
   "source": [
    "inclination_distribution = eu['inclination_category'].value_counts(normalize=True) * 100\n",
    "print(inclination_distribution)"
   ]
  },
  {
   "cell_type": "code",
   "execution_count": null,
   "id": "1532133b-1bdb-4aa7-9db7-cc36132069bb",
   "metadata": {},
   "outputs": [],
   "source": []
  },
  {
   "cell_type": "code",
   "execution_count": null,
   "id": "486fa670-4520-4199-834e-b002028fe135",
   "metadata": {},
   "outputs": [],
   "source": [
    "# Now attempting to calculate the habitable zone for each star"
   ]
  },
  {
   "cell_type": "code",
   "execution_count": null,
   "id": "51280f28-ea9f-41ee-86f3-3a480f50607e",
   "metadata": {},
   "outputs": [],
   "source": [
    "def habitable_zone(star_luminosity):\n",
    "    inner_bound = 0.75 * (star_luminosity ** 0.5)\n",
    "    outer_bound = 1.75 * (star_luminosity ** 0.5)\n",
    "    return inner_bound, outer_bound\n",
    "\n",
    "# this is assuming star_luminosity is related to star_mass... I will double check this if I use this.\n",
    "eu['star_luminosity'] = eu['star_mass'] ** 3.5\n",
    "eu['hz_inner'], eu['hz_outer'] = zip(*eu['star_luminosity'].apply(habitable_zone))\n",
    "\n",
    "# exoplanets in the habitable zone\n",
    "eu['in_habitable_zone'] = (eu['semi_major_axis'] >= eu['hz_inner']) & (eu['semi_major_axis'] <= eu['hz_outer'])\n",
    "habitable_exoplanets = eu[eu['in_habitable_zone']]\n",
    "print(habitable_exoplanets[['planet_name', 'semi_major_axis', 'star_type']])"
   ]
  },
  {
   "cell_type": "code",
   "execution_count": null,
   "id": "f3105b49-783f-4fab-8b76-d65ae2ee3fbe",
   "metadata": {},
   "outputs": [],
   "source": [
    "eu.head(4)"
   ]
  },
  {
   "cell_type": "code",
   "execution_count": null,
   "id": "195b462e-becf-4094-bf18-d88fab4fa0c9",
   "metadata": {},
   "outputs": [],
   "source": [
    "# Saaving the DataFrame to a CSV file to use in PowerBI\n",
    "# eu.to_csv('pandasClean_exoplanetEU_02.csv', index=False)"
   ]
  },
  {
   "cell_type": "markdown",
   "id": "90074845-4f51-4631-b7c5-66104e1a14e6",
   "metadata": {},
   "source": [
    "# Outer Worlds: Analyzing the Discovery and Characteristics of Exoplanets"
   ]
  },
  {
   "cell_type": "markdown",
   "id": "0f8b24b1-f605-4b94-8040-65891b1e11d2",
   "metadata": {},
   "source": [
    "Working the Data Questions 👨🏻‍🚀 "
   ]
  },
  {
   "cell_type": "markdown",
   "id": "a6f74fde-c143-4135-8e88-afa547526d95",
   "metadata": {
    "jp-MarkdownHeadingCollapsed": true
   },
   "source": [
    "# #1. What are some of the most common detection methods and their effectiveness?"
   ]
  },
  {
   "cell_type": "code",
   "execution_count": null,
   "id": "087c989e-1b40-40ca-83d4-fbc4523a4c00",
   "metadata": {},
   "outputs": [],
   "source": [
    "detection_counts = eu['detection_type'].value_counts()\n",
    "print(detection_counts)\n",
    "print('')\n",
    "total_detections = eu['detection_type'].value_counts().sum()\n",
    "print('Total number of detected planets')\n",
    "print(total_detections)\n",
    "\n",
    "\n",
    "detection_counts.plot(kind='barh')\n",
    "plt.xlabel('Number of Exoplanets')\n",
    "plt.ylabel('')\n",
    "plt.title('Common Detection Methods');"
   ]
  },
  {
   "cell_type": "markdown",
   "id": "6589d862-5be0-49e1-9b7a-4d87c2fcacff",
   "metadata": {},
   "source": [
    "How have the methods for detecting exoplanets evolved over time?"
   ]
  },
  {
   "cell_type": "code",
   "execution_count": null,
   "id": "993227e4-d6bd-422e-b0d7-bf8249d7b165",
   "metadata": {},
   "outputs": [],
   "source": [
    "detection_method_trend = eu.groupby(['year', 'detection_type']).size().unstack().fillna(0)\n",
    "detection_method_trend.plot(kind='line', stacked=False)\n",
    "plt.xlabel('Year')\n",
    "plt.ylabel('')\n",
    "plt.title('Detection Methods Over Time')\n",
    "plt.legend(title='Detection Type');"
   ]
  },
  {
   "cell_type": "markdown",
   "id": "8313faca-7021-4bb6-9e43-2f8e18ca35ac",
   "metadata": {},
   "source": [
    "This scatter plot provides a comprehensive view of the relationships between planet mass, star distance, detection method, and planet radius. It allows us to explore how detection methods vary with exoplanet characteristics and the environments in which they are found."
   ]
  },
  {
   "cell_type": "code",
   "execution_count": null,
   "id": "0e4f0c4e-bd9f-4905-94ef-b304433e9534",
   "metadata": {},
   "outputs": [],
   "source": [
    "palette = sns.color_palette(n_colors=5)\n",
    "\n",
    "g = sns.relplot(data=eu,\n",
    "                x=\"planet_mass\", \n",
    "                y=\"star_distance\",\n",
    "                hue=\"detection_type\", \n",
    "                size=\"planet_radius\",\n",
    "                palette=palette, \n",
    "                sizes=(10, 200),\n",
    "                height=6, \n",
    "                aspect=1.5) \n",
    "\n",
    "g.set_axis_labels(\"Planet Mass\", \"Star Distance\")\n",
    "g.fig.suptitle(\"Exoplanet Mass and Distance: Detection Method and Radius Insights\", fontsize=16, fontweight='bold')\n",
    "\n",
    "g.set(xscale=\"log\", yscale=\"log\")\n",
    "g.ax.xaxis.grid(True, \"minor\", linewidth=.25)\n",
    "g.ax.yaxis.grid(True, \"minor\", linewidth=.25)\n",
    "g.despine(left=True, bottom=True);"
   ]
  },
  {
   "cell_type": "markdown",
   "id": "eeb3d876-983c-4ce3-bfa8-00aeb9b0b69c",
   "metadata": {},
   "source": [
    "Success of Detection Methods"
   ]
  },
  {
   "cell_type": "code",
   "execution_count": null,
   "id": "db90dcd2-75b2-4794-8347-e5dc65463a44",
   "metadata": {},
   "outputs": [],
   "source": [
    "# Grouping by detection method and calculate average characteristics\n",
    "detection_method_stats = eu.groupby('detection_type').agg({'planet_mass': 'mean', 'planet_radius': 'mean'})\n",
    "print(detection_method_stats)"
   ]
  },
  {
   "cell_type": "markdown",
   "id": "9fdd5ce3-269b-4ed0-98c3-ebecdd45293f",
   "metadata": {
    "jp-MarkdownHeadingCollapsed": true
   },
   "source": [
    "# #2. What are the most common types of exoplanets and some key characteristics discovered so far?"
   ]
  },
  {
   "cell_type": "code",
   "execution_count": null,
   "id": "bfcbe608-0d52-40ae-86f8-480ea7c3654f",
   "metadata": {},
   "outputs": [],
   "source": [
    "detection_counts = eu['planet_type'].value_counts()\n",
    "print(detection_counts)\n",
    "print('')\n",
    "total_detections = eu['planet_type'].value_counts().sum()\n",
    "print('Total number of detected planets')\n",
    "print(total_detections)\n",
    "\n",
    "detection_counts.plot(kind='barh')\n",
    "plt.xlabel('Detection Method')\n",
    "plt.ylabel('Number of Exoplanets Discovered')\n",
    "plt.title('Common Detection Methods');"
   ]
  },
  {
   "cell_type": "code",
   "execution_count": null,
   "id": "1e62021e-4b22-440f-b3d4-f735f9d95a09",
   "metadata": {},
   "outputs": [],
   "source": [
    "eu_filtered = eu[(eu['year'] >= 2014) & (eu['year'] <= 2024)]\n",
    "\n",
    "planet_discovery_counts = eu_filtered.groupby(['year', 'planet_type']).size().unstack().fillna(0)\n",
    "\n",
    "planet_discovery_counts.plot(kind='bar', stacked=False, figsize=(12, 8))\n",
    "plt.xticks(rotation = 0, fontsize = 12)   \n",
    "plt.xlabel('')\n",
    "plt.ylabel('')\n",
    "plt.title('Number of Planets Discovered Each Year by Planet Type (2014-2024)')\n",
    "plt.legend(title='Planet Type');"
   ]
  },
  {
   "cell_type": "code",
   "execution_count": null,
   "id": "ff9721c0-7c9b-46dd-ad65-77fc54953e4b",
   "metadata": {},
   "outputs": [],
   "source": [
    "# Line plot of average exoplanet mass by discovery year\n",
    "avg_mass_by_year = eu.groupby('year')['planet_mass'].mean()\n",
    "plt.plot(avg_mass_by_year.index, avg_mass_by_year.values)\n",
    "plt.yscale('log')\n",
    "plt.xlabel('')\n",
    "plt.ylabel('Average Exoplanet Mass')\n",
    "plt.title('Average Exoplanet Mass by Discovery Year');"
   ]
  },
  {
   "cell_type": "markdown",
   "id": "034aaed4-d4aa-4204-9d6b-0d500dd058b1",
   "metadata": {},
   "source": [
    "What is the range of orbital periods and semi-major axes of exoplanets?"
   ]
  },
  {
   "cell_type": "code",
   "execution_count": null,
   "id": "810ea8ec-d9e7-473c-ba14-e2bfec6e772d",
   "metadata": {},
   "outputs": [],
   "source": [
    "# This scatter plot helps visualize the relationship between the orbital period of exoplanets and their semi-major axis.\n",
    "plt.scatter(eu['semi_major_axis'], eu['orbital_period'])\n",
    "plt.xscale('log')\n",
    "plt.yscale('log')\n",
    "plt.xlabel('Semi-Major Axis (AU)')\n",
    "plt.ylabel('Orbital Period (days)')\n",
    "plt.title('Orbital Period vs. Semi-Major Axis');"
   ]
  },
  {
   "cell_type": "code",
   "execution_count": null,
   "id": "d720be0d-e1e3-4d75-8eb8-6326908eb218",
   "metadata": {},
   "outputs": [],
   "source": [
    "orbital_period_summary = eu['orbital_period'].describe()\n",
    "semi_major_axis_summary = eu['semi_major_axis'].describe()\n",
    "\n",
    "print('Orbital Period Summary:')\n",
    "print(orbital_period_summary)\n",
    "print('\\nSemi-Major Axis Summary:')\n",
    "print(semi_major_axis_summary)"
   ]
  },
  {
   "cell_type": "markdown",
   "id": "2fe61e9b-c1ff-441d-b7ca-66ddb6decb4f",
   "metadata": {
    "jp-MarkdownHeadingCollapsed": true
   },
   "source": [
    "# #3. What are the most common types of stars hosting exoplanets?"
   ]
  },
  {
   "cell_type": "code",
   "execution_count": null,
   "id": "d9ec1a95-a351-4c4b-8486-40c427e5bc0b",
   "metadata": {},
   "outputs": [],
   "source": [
    "star_type_counts = eu['star_type'].value_counts()\n",
    "print(star_type_counts)\n",
    "\n",
    "star_type_counts = eu['star_type'].value_counts()\n",
    "star_type_counts.plot(kind='bar')\n",
    "plt.xticks(rotation = 0, fontsize = 12)   \n",
    "plt.xlabel('Star Type')\n",
    "plt.ylabel('Number of Exoplanets Discovered')\n",
    "plt.title('Star Types Hosting Exoplanets');"
   ]
  },
  {
   "cell_type": "code",
   "execution_count": null,
   "id": "ccdf7281-bad8-4728-b542-e36a32e89f17",
   "metadata": {},
   "outputs": [],
   "source": [
    "type_discoveries = eu.groupby(['year', 'star_type']).size().unstack().fillna(0)\n",
    "type_discoveries.plot(kind='barh', stacked=True)\n",
    "plt.xlabel('Number of Stars Discovered')\n",
    "plt.ylabel('')\n",
    "plt.title('Discovery of Exoplanet Star Types per Year')\n",
    "plt.legend(title='Star Type');"
   ]
  },
  {
   "cell_type": "code",
   "execution_count": null,
   "id": "959f4a58-579a-45b2-b4d7-e4827995fdb0",
   "metadata": {},
   "outputs": [],
   "source": [
    "# Summary statistics for star characteristics\n",
    "star_mass_summary = eu['star_mass'].describe()\n",
    "star_radius_summary = eu['star_radius'].describe()\n",
    "star_luminosity_summary = eu['star_luminosity'].describe()\n",
    "\n",
    "print('Star Mass Summary:')\n",
    "print(star_mass_summary)\n",
    "print('\\nStar Radius Summary:')\n",
    "print(star_radius_summary)\n",
    "print('\\nStar Luminosity Summary:')\n",
    "print(star_luminosity_summary)"
   ]
  },
  {
   "cell_type": "markdown",
   "id": "2b3a308c-e4c5-4d0c-b3b9-8feb187a8bee",
   "metadata": {},
   "source": [
    "Scatterplotting to give a comprehensive view of the relationships between star mass, distance, detection method, and star radius."
   ]
  },
  {
   "cell_type": "code",
   "execution_count": null,
   "id": "efb4073e-13c1-4294-bb70-e8f353c278f5",
   "metadata": {},
   "outputs": [],
   "source": [
    "palette = sns.color_palette(n_colors=5)\n",
    "\n",
    "g = sns.relplot(data=eu,\n",
    "                x=\"star_mass\", \n",
    "                y=\"star_distance\",\n",
    "                hue=\"detection_type\", \n",
    "                size=\"star_radius\",\n",
    "                palette=palette, \n",
    "                sizes=(10, 200),\n",
    "                height=6, \n",
    "                aspect=1.5) \n",
    "\n",
    "g.set_axis_labels(\"Star Mass\", \"Star Distance\")\n",
    "\n",
    "g.fig.suptitle(\"Distribution of Exoplanets: Star Mass vs. Star Distance\", fontsize=16, fontweight='bold')\n",
    "\n",
    "g.set(xscale=\"log\", yscale=\"log\")\n",
    "g.ax.xaxis.grid(True, \"minor\", linewidth=.25)\n",
    "g.ax.yaxis.grid(True, \"minor\", linewidth=.25)\n",
    "g.despine(left=True, bottom=True);"
   ]
  },
  {
   "cell_type": "markdown",
   "id": "c4dce44a-ccbe-4cd6-bf7b-730927703d04",
   "metadata": {
    "jp-MarkdownHeadingCollapsed": true
   },
   "source": [
    "# #4. What factors determine Habitability?"
   ]
  },
  {
   "cell_type": "markdown",
   "id": "32d75921-beaa-4ec0-9851-9a95986b44ef",
   "metadata": {},
   "source": [
    "Habitable Zone Workings 🌎"
   ]
  },
  {
   "cell_type": "code",
   "execution_count": null,
   "id": "4a404153-7dc6-41b2-995d-bbf981138ff1",
   "metadata": {},
   "outputs": [],
   "source": [
    "in_habitable_zone_counts = eu['in_habitable_zone'].value_counts()\n",
    "print(in_habitable_zone_counts)\n",
    "\n",
    "star_type_counts = eu['in_habitable_zone'].value_counts()\n",
    "star_type_counts.plot(kind='bar')\n",
    "plt.xticks(rotation = 0, fontsize = 12)   \n",
    "plt.xlabel('In Habitable Zone')\n",
    "plt.ylabel('')\n",
    "plt.title('Exoplanets Discovered in H-Zone');"
   ]
  },
  {
   "cell_type": "code",
   "execution_count": null,
   "id": "d8bb11a8-3881-4d11-b104-a16a5af97286",
   "metadata": {},
   "outputs": [],
   "source": [
    "type_discoveries = eu.groupby(['year', 'in_habitable_zone']).size().unstack().fillna(0)\n",
    "type_discoveries.plot(kind='barh', stacked=True)\n",
    "plt.ylabel('')\n",
    "plt.xlabel('')\n",
    "plt.title('Number of Discovered Exoplanets in the H-Zone')\n",
    "plt.legend(title='In Habitable Zone');"
   ]
  },
  {
   "cell_type": "markdown",
   "id": "f1d59277-a0a6-4d41-a78a-d97b4412be02",
   "metadata": {},
   "source": [
    "Bringing in Our Solar System 👽"
   ]
  },
  {
   "cell_type": "code",
   "execution_count": null,
   "id": "be34ffdb-410a-4161-9f3e-6b64f949896c",
   "metadata": {},
   "outputs": [],
   "source": [
    "sol = pd.read_csv(r\"C:\\Users\\datan\\OneDrive\\Desktop\\Capstone\\Exoplanets\\data\\solar_system_nasa_scrape_github.csv\")"
   ]
  },
  {
   "cell_type": "code",
   "execution_count": null,
   "id": "09bf121d-c01e-4697-b2f6-6a638c97b700",
   "metadata": {},
   "outputs": [],
   "source": [
    "sol.head(9)"
   ]
  },
  {
   "cell_type": "code",
   "execution_count": null,
   "id": "264f7903-2201-4a08-9e94-314cf098eefb",
   "metadata": {},
   "outputs": [],
   "source": [
    "sol.columns"
   ]
  }
 ],
 "metadata": {
  "kernelspec": {
   "display_name": "Python 3 (ipykernel)",
   "language": "python",
   "name": "python3"
  },
  "language_info": {
   "codemirror_mode": {
    "name": "ipython",
    "version": 3
   },
   "file_extension": ".py",
   "mimetype": "text/x-python",
   "name": "python",
   "nbconvert_exporter": "python",
   "pygments_lexer": "ipython3",
   "version": "3.11.7"
  }
 },
 "nbformat": 4,
 "nbformat_minor": 5
}
