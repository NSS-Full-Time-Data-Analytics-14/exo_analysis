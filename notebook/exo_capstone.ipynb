{
 "cells": [
  {
   "cell_type": "markdown",
   "id": "608b594d-5e71-4034-a55e-ec16c61c5776",
   "metadata": {
    "jp-MarkdownHeadingCollapsed": true
   },
   "source": [
    "# 🚀 Houston, we have liftoff! 🛰️"
   ]
  },
  {
   "cell_type": "code",
   "execution_count": 1,
   "id": "e04cb1af-ec82-40eb-884d-3522a1f05a0b",
   "metadata": {},
   "outputs": [],
   "source": [
    "import pandas as pd\n",
    "import numpy as np\n",
    "import seaborn as sns\n",
    "import matplotlib.pyplot as plt"
   ]
  },
  {
   "cell_type": "code",
   "execution_count": 2,
   "id": "f51b5715-90ce-400b-9573-35326511c150",
   "metadata": {},
   "outputs": [],
   "source": [
    "eu = pd.read_csv(r\"C:\\Users\\datan\\OneDrive\\Desktop\\Capstone\\Exoplanets\\data\\everything_exoplanet_eu.csv\")"
   ]
  },
  {
   "cell_type": "code",
   "execution_count": 3,
   "id": "e0357c05-198a-4e78-8c2b-d687508cac59",
   "metadata": {},
   "outputs": [
    {
     "data": {
      "text/html": [
       "<div>\n",
       "<style scoped>\n",
       "    .dataframe tbody tr th:only-of-type {\n",
       "        vertical-align: middle;\n",
       "    }\n",
       "\n",
       "    .dataframe tbody tr th {\n",
       "        vertical-align: top;\n",
       "    }\n",
       "\n",
       "    .dataframe thead th {\n",
       "        text-align: right;\n",
       "    }\n",
       "</style>\n",
       "<table border=\"1\" class=\"dataframe\">\n",
       "  <thead>\n",
       "    <tr style=\"text-align: right;\">\n",
       "      <th></th>\n",
       "      <th>name</th>\n",
       "      <th>planet_status</th>\n",
       "      <th>mass</th>\n",
       "      <th>mass_error_min</th>\n",
       "      <th>mass_error_max</th>\n",
       "      <th>mass_sini</th>\n",
       "      <th>mass_sini_error_min</th>\n",
       "      <th>mass_sini_error_max</th>\n",
       "      <th>radius</th>\n",
       "      <th>radius_error_min</th>\n",
       "      <th>...</th>\n",
       "      <th>star_sp_type</th>\n",
       "      <th>star_age</th>\n",
       "      <th>star_age_error_min</th>\n",
       "      <th>star_age_error_max</th>\n",
       "      <th>star_teff</th>\n",
       "      <th>star_teff_error_min</th>\n",
       "      <th>star_teff_error_max</th>\n",
       "      <th>star_detected_disc</th>\n",
       "      <th>star_magnetic_field</th>\n",
       "      <th>star_alternate_names</th>\n",
       "    </tr>\n",
       "  </thead>\n",
       "  <tbody>\n",
       "    <tr>\n",
       "      <th>0</th>\n",
       "      <td>109 Psc b</td>\n",
       "      <td>Confirmed</td>\n",
       "      <td>5.743</td>\n",
       "      <td>0.289</td>\n",
       "      <td>0.289</td>\n",
       "      <td>6.383</td>\n",
       "      <td>0.078</td>\n",
       "      <td>0.078</td>\n",
       "      <td>1.152</td>\n",
       "      <td>NaN</td>\n",
       "      <td>...</td>\n",
       "      <td>G5 IV</td>\n",
       "      <td>6.90</td>\n",
       "      <td>0.60</td>\n",
       "      <td>0.60</td>\n",
       "      <td>5600.00</td>\n",
       "      <td>80.00000</td>\n",
       "      <td>80.00000</td>\n",
       "      <td>NaN</td>\n",
       "      <td>NaN</td>\n",
       "      <td>HD 10697</td>\n",
       "    </tr>\n",
       "    <tr>\n",
       "      <th>1</th>\n",
       "      <td>109 Tau b</td>\n",
       "      <td>Candidate</td>\n",
       "      <td>16.000</td>\n",
       "      <td>NaN</td>\n",
       "      <td>NaN</td>\n",
       "      <td>16.000</td>\n",
       "      <td>NaN</td>\n",
       "      <td>NaN</td>\n",
       "      <td>NaN</td>\n",
       "      <td>NaN</td>\n",
       "      <td>...</td>\n",
       "      <td>G8III</td>\n",
       "      <td>0.60</td>\n",
       "      <td>0.05</td>\n",
       "      <td>0.05</td>\n",
       "      <td>5012.07</td>\n",
       "      <td>3.91874</td>\n",
       "      <td>3.91874</td>\n",
       "      <td>NaN</td>\n",
       "      <td>NaN</td>\n",
       "      <td>n Tau, HD 34559</td>\n",
       "    </tr>\n",
       "    <tr>\n",
       "      <th>2</th>\n",
       "      <td>110 Vir b</td>\n",
       "      <td>Candidate</td>\n",
       "      <td>1.600</td>\n",
       "      <td>0.100</td>\n",
       "      <td>0.100</td>\n",
       "      <td>NaN</td>\n",
       "      <td>NaN</td>\n",
       "      <td>NaN</td>\n",
       "      <td>NaN</td>\n",
       "      <td>NaN</td>\n",
       "      <td>...</td>\n",
       "      <td>K0IIIb</td>\n",
       "      <td>3.33</td>\n",
       "      <td>1.90</td>\n",
       "      <td>1.90</td>\n",
       "      <td>4650.00</td>\n",
       "      <td>NaN</td>\n",
       "      <td>NaN</td>\n",
       "      <td>NaN</td>\n",
       "      <td>NaN</td>\n",
       "      <td>HIP 73620</td>\n",
       "    </tr>\n",
       "    <tr>\n",
       "      <th>3</th>\n",
       "      <td>112 Psc b</td>\n",
       "      <td>Confirmed</td>\n",
       "      <td>0.033</td>\n",
       "      <td>0.005</td>\n",
       "      <td>0.005</td>\n",
       "      <td>0.033</td>\n",
       "      <td>0.005</td>\n",
       "      <td>0.005</td>\n",
       "      <td>NaN</td>\n",
       "      <td>NaN</td>\n",
       "      <td>...</td>\n",
       "      <td>G0IV</td>\n",
       "      <td>NaN</td>\n",
       "      <td>NaN</td>\n",
       "      <td>NaN</td>\n",
       "      <td>5986.00</td>\n",
       "      <td>105.43700</td>\n",
       "      <td>105.43700</td>\n",
       "      <td>NaN</td>\n",
       "      <td>NaN</td>\n",
       "      <td>HD 12235</td>\n",
       "    </tr>\n",
       "  </tbody>\n",
       "</table>\n",
       "<p>4 rows × 98 columns</p>\n",
       "</div>"
      ],
      "text/plain": [
       "        name planet_status    mass  mass_error_min  mass_error_max  mass_sini  \\\n",
       "0  109 Psc b     Confirmed   5.743           0.289           0.289      6.383   \n",
       "1  109 Tau b     Candidate  16.000             NaN             NaN     16.000   \n",
       "2  110 Vir b     Candidate   1.600           0.100           0.100        NaN   \n",
       "3  112 Psc b     Confirmed   0.033           0.005           0.005      0.033   \n",
       "\n",
       "   mass_sini_error_min  mass_sini_error_max  radius  radius_error_min  ...  \\\n",
       "0                0.078                0.078   1.152               NaN  ...   \n",
       "1                  NaN                  NaN     NaN               NaN  ...   \n",
       "2                  NaN                  NaN     NaN               NaN  ...   \n",
       "3                0.005                0.005     NaN               NaN  ...   \n",
       "\n",
       "   star_sp_type  star_age  star_age_error_min  star_age_error_max  star_teff  \\\n",
       "0         G5 IV      6.90                0.60                0.60    5600.00   \n",
       "1         G8III      0.60                0.05                0.05    5012.07   \n",
       "2        K0IIIb      3.33                1.90                1.90    4650.00   \n",
       "3          G0IV       NaN                 NaN                 NaN    5986.00   \n",
       "\n",
       "   star_teff_error_min  star_teff_error_max  star_detected_disc  \\\n",
       "0             80.00000             80.00000                 NaN   \n",
       "1              3.91874              3.91874                 NaN   \n",
       "2                  NaN                  NaN                 NaN   \n",
       "3            105.43700            105.43700                 NaN   \n",
       "\n",
       "   star_magnetic_field  star_alternate_names  \n",
       "0                  NaN              HD 10697  \n",
       "1                  NaN       n Tau, HD 34559  \n",
       "2                  NaN             HIP 73620  \n",
       "3                  NaN              HD 12235  \n",
       "\n",
       "[4 rows x 98 columns]"
      ]
     },
     "execution_count": 3,
     "metadata": {},
     "output_type": "execute_result"
    }
   ],
   "source": [
    "eu.head(4)"
   ]
  },
  {
   "cell_type": "markdown",
   "id": "45d5de4b-327a-464b-822e-32d427a81692",
   "metadata": {
    "jp-MarkdownHeadingCollapsed": true
   },
   "source": [
    "# Cleaning 🧹"
   ]
  },
  {
   "cell_type": "code",
   "execution_count": 8,
   "id": "eebcb102-a627-4fc7-b3b4-d53f5615d311",
   "metadata": {},
   "outputs": [
    {
     "data": {
      "text/plain": [
       "name                       0\n",
       "planet_status              0\n",
       "mass                    4727\n",
       "mass_error_min          5742\n",
       "mass_error_max          5742\n",
       "                        ... \n",
       "star_teff_error_min     2384\n",
       "star_teff_error_max     2384\n",
       "star_detected_disc      9665\n",
       "star_magnetic_field     9829\n",
       "star_alternate_names    3437\n",
       "Length: 98, dtype: int64"
      ]
     },
     "execution_count": 8,
     "metadata": {},
     "output_type": "execute_result"
    }
   ],
   "source": [
    "eu.isnull().sum()"
   ]
  },
  {
   "cell_type": "code",
   "execution_count": 10,
   "id": "91b71fe1-aa28-4968-ae32-a7979b3e510f",
   "metadata": {},
   "outputs": [
    {
     "data": {
      "text/plain": [
       "Index(['name', 'planet_status', 'mass', 'mass_error_min', 'mass_error_max',\n",
       "       'mass_sini', 'mass_sini_error_min', 'mass_sini_error_max', 'radius',\n",
       "       'radius_error_min', 'radius_error_max', 'orbital_period',\n",
       "       'orbital_period_error_min', 'orbital_period_error_max',\n",
       "       'semi_major_axis', 'semi_major_axis_error_min',\n",
       "       'semi_major_axis_error_max', 'eccentricity', 'eccentricity_error_min',\n",
       "       'eccentricity_error_max', 'inclination', 'inclination_error_min',\n",
       "       'inclination_error_max', 'angular_distance', 'discovered', 'updated',\n",
       "       'omega', 'omega_error_min', 'omega_error_max', 'tperi',\n",
       "       'tperi_error_min', 'tperi_error_max', 'tconj', 'tconj_error_min',\n",
       "       'tconj_error_max', 'tzero_tr', 'tzero_tr_error_min',\n",
       "       'tzero_tr_error_max', 'tzero_tr_sec', 'tzero_tr_sec_error_min',\n",
       "       'tzero_tr_sec_error_max', 'lambda_angle', 'lambda_angle_error_min',\n",
       "       'lambda_angle_error_max', 'impact_parameter',\n",
       "       'impact_parameter_error_min', 'impact_parameter_error_max', 'tzero_vr',\n",
       "       'tzero_vr_error_min', 'tzero_vr_error_max', 'k', 'k_error_min',\n",
       "       'k_error_max', 'temp_calculated', 'temp_calculated_error_min',\n",
       "       'temp_calculated_error_max', 'temp_measured', 'hot_point_lon',\n",
       "       'geometric_albedo', 'geometric_albedo_error_min',\n",
       "       'geometric_albedo_error_max', 'log_g', 'publication', 'detection_type',\n",
       "       'mass_measurement_type', 'radius_measurement_type', 'alternate_names',\n",
       "       'molecules', 'star_name', 'ra', 'dec', 'mag_v', 'mag_i', 'mag_j',\n",
       "       'mag_h', 'mag_k', 'star_distance', 'star_distance_error_min',\n",
       "       'star_distance_error_max', 'star_metallicity',\n",
       "       'star_metallicity_error_min', 'star_metallicity_error_max', 'star_mass',\n",
       "       'star_mass_error_min', 'star_mass_error_max', 'star_radius',\n",
       "       'star_radius_error_min', 'star_radius_error_max', 'star_sp_type',\n",
       "       'star_age', 'star_age_error_min', 'star_age_error_max', 'star_teff',\n",
       "       'star_teff_error_min', 'star_teff_error_max', 'star_detected_disc',\n",
       "       'star_magnetic_field', 'star_alternate_names'],\n",
       "      dtype='object')"
      ]
     },
     "execution_count": 10,
     "metadata": {},
     "output_type": "execute_result"
    }
   ],
   "source": [
    "eu.columns"
   ]
  },
  {
   "cell_type": "code",
   "execution_count": 12,
   "id": "c2b9ec17-43d5-4d85-88e3-841d6a22af39",
   "metadata": {},
   "outputs": [],
   "source": [
    "# removing any unnecessary columns for my analysis\n",
    "\n",
    "eu.drop(['mass_error_min', 'mass_error_max',\n",
    "        'mass_sini', 'mass_sini_error_min', \n",
    "        'mass_sini_error_max', 'radius_error_min', \n",
    "        'radius_error_max', 'orbital_period_error_min', \n",
    "        'orbital_period_error_max', 'semi_major_axis_error_min',\n",
    "       'semi_major_axis_error_max', 'eccentricity_error_min',\n",
    "       'eccentricity_error_max', 'inclination_error_min',\n",
    "       'inclination_error_max', 'angular_distance', 'updated',\n",
    "       'omega', 'omega_error_min', 'omega_error_max', 'tperi',\n",
    "       'tperi_error_min', 'tperi_error_max', 'tconj', 'tconj_error_min',\n",
    "       'tconj_error_max', 'tzero_tr', 'tzero_tr_error_min',\n",
    "       'tzero_tr_error_max', 'tzero_tr_sec', 'tzero_tr_sec_error_min',\n",
    "       'tzero_tr_sec_error_max', 'lambda_angle', 'lambda_angle_error_min',\n",
    "       'lambda_angle_error_max', 'impact_parameter',\n",
    "       'impact_parameter_error_min', 'impact_parameter_error_max', 'tzero_vr',\n",
    "       'tzero_vr_error_min', 'tzero_vr_error_max', 'k', 'k_error_min',\n",
    "       'k_error_max', 'temp_calculated', 'temp_calculated_error_min',\n",
    "       'temp_calculated_error_max', 'temp_measured', 'hot_point_lon',\n",
    "       'geometric_albedo', 'geometric_albedo_error_min',\n",
    "       'geometric_albedo_error_max', 'log_g', 'publication', 'mass_measurement_type',\n",
    "        'radius_measurement_type', 'alternate_names',\n",
    "       'molecules', 'star_name', 'ra', 'dec', 'mag_v', 'mag_i', 'mag_j',\n",
    "       'mag_h', 'mag_k', 'star_distance_error_min',\n",
    "       'star_distance_error_max', 'star_metallicity',\n",
    "       'star_metallicity_error_min', 'star_metallicity_error_max', 'star_mass_error_min', \n",
    "        'star_mass_error_max', 'star_radius_error_min', 'star_radius_error_max', \n",
    "        'star_age', 'star_age_error_min', 'star_age_error_max', 'star_teff',\n",
    "       'star_teff_error_min', 'star_teff_error_max', 'star_detected_disc',\n",
    "       'star_magnetic_field', 'star_alternate_names'], axis=1, inplace=True)"
   ]
  },
  {
   "cell_type": "code",
   "execution_count": 14,
   "id": "6bc7a477-6fd6-4081-bb29-206982e266c8",
   "metadata": {},
   "outputs": [
    {
     "name": "stdout",
     "output_type": "stream",
     "text": [
      "<class 'pandas.core.frame.DataFrame'>\n",
      "RangeIndex: 9838 entries, 0 to 9837\n",
      "Data columns (total 14 columns):\n",
      " #   Column           Non-Null Count  Dtype  \n",
      "---  ------           --------------  -----  \n",
      " 0   name             9838 non-null   object \n",
      " 1   planet_status    9838 non-null   object \n",
      " 2   mass             5111 non-null   float64\n",
      " 3   radius           6659 non-null   float64\n",
      " 4   orbital_period   8241 non-null   float64\n",
      " 5   semi_major_axis  7102 non-null   float64\n",
      " 6   eccentricity     3452 non-null   float64\n",
      " 7   inclination      4066 non-null   float64\n",
      " 8   discovered       9813 non-null   float64\n",
      " 9   detection_type   9838 non-null   object \n",
      " 10  star_distance    7851 non-null   float64\n",
      " 11  star_mass        8284 non-null   float64\n",
      " 12  star_radius      7700 non-null   float64\n",
      " 13  star_sp_type     4116 non-null   object \n",
      "dtypes: float64(10), object(4)\n",
      "memory usage: 1.1+ MB\n"
     ]
    }
   ],
   "source": [
    "eu.info()"
   ]
  },
  {
   "cell_type": "code",
   "execution_count": 16,
   "id": "ae063e5b-48ed-4115-a1fd-17d96391c56b",
   "metadata": {},
   "outputs": [
    {
     "data": {
      "text/plain": [
       "name                  0\n",
       "planet_status         0\n",
       "mass               4727\n",
       "radius             3179\n",
       "orbital_period     1597\n",
       "semi_major_axis    2736\n",
       "eccentricity       6386\n",
       "inclination        5772\n",
       "discovered           25\n",
       "detection_type        0\n",
       "star_distance      1987\n",
       "star_mass          1554\n",
       "star_radius        2138\n",
       "star_sp_type       5722\n",
       "dtype: int64"
      ]
     },
     "execution_count": 16,
     "metadata": {},
     "output_type": "execute_result"
    }
   ],
   "source": [
    "eu.isnull().sum()"
   ]
  },
  {
   "cell_type": "code",
   "execution_count": 18,
   "id": "0fce184b-86c3-4425-9cf9-cfb15db2663b",
   "metadata": {},
   "outputs": [],
   "source": [
    "# replacing all nulls with zero\n",
    "\n",
    "eu.fillna(0, inplace=True)"
   ]
  },
  {
   "cell_type": "code",
   "execution_count": 20,
   "id": "4b4acfb6-624d-4351-956e-c7bf50224b7b",
   "metadata": {},
   "outputs": [
    {
     "data": {
      "text/plain": [
       "name               0\n",
       "planet_status      0\n",
       "mass               0\n",
       "radius             0\n",
       "orbital_period     0\n",
       "semi_major_axis    0\n",
       "eccentricity       0\n",
       "inclination        0\n",
       "discovered         0\n",
       "detection_type     0\n",
       "star_distance      0\n",
       "star_mass          0\n",
       "star_radius        0\n",
       "star_sp_type       0\n",
       "dtype: int64"
      ]
     },
     "execution_count": 20,
     "metadata": {},
     "output_type": "execute_result"
    }
   ],
   "source": [
    "eu.isnull().sum()"
   ]
  },
  {
   "cell_type": "code",
   "execution_count": 22,
   "id": "f076878f-acfc-4d3f-a127-955d25e7aa6f",
   "metadata": {},
   "outputs": [],
   "source": [
    "# cleaning the star_sp_type column"
   ]
  },
  {
   "cell_type": "code",
   "execution_count": 24,
   "id": "d1f6be5b-ea09-4d38-9b99-9d286cbf015f",
   "metadata": {},
   "outputs": [
    {
     "data": {
      "text/plain": [
       "star_sp_type\n",
       "0         5722\n",
       "G8V        123\n",
       "G5V        120\n",
       "K0V        117\n",
       "G3V        113\n",
       "          ... \n",
       "B9V+?        1\n",
       "B6           1\n",
       "G0VI         1\n",
       "K1Ve         1\n",
       "DA+M6V       1\n",
       "Name: count, Length: 570, dtype: int64"
      ]
     },
     "execution_count": 24,
     "metadata": {},
     "output_type": "execute_result"
    }
   ],
   "source": [
    "eu['star_sp_type'].value_counts()"
   ]
  },
  {
   "cell_type": "code",
   "execution_count": 26,
   "id": "5c1a5347-db36-4c70-a46a-cb74293667a0",
   "metadata": {},
   "outputs": [],
   "source": [
    "# fill NaN values with an empty string and changing the data type to string\n",
    "eu['star_sp_type'] = eu['star_sp_type'].fillna('')\n",
    "eu['star_sp_type'] = eu['star_sp_type'].astype(str)\n",
    "\n",
    "# defining the function to extract the first letter of the star type\n",
    "def simplify_star_type(star_sp_type):\n",
    "    return star_sp_type[0] if star_sp_type else 'Unknown'\n",
    "\n",
    "eu['star_type'] = eu['star_sp_type'].apply(simplify_star_type)"
   ]
  },
  {
   "cell_type": "code",
   "execution_count": 28,
   "id": "8f5a2acb-013a-4016-9d75-d5f642c556e6",
   "metadata": {},
   "outputs": [
    {
     "data": {
      "text/plain": [
       "star_type\n",
       "0    5722\n",
       "G    1445\n",
       "K     996\n",
       "M     785\n",
       "F     496\n",
       "P     104\n",
       "D      80\n",
       "A      72\n",
       "s      43\n",
       "B      36\n",
       "L      20\n",
       "W      20\n",
       "C       6\n",
       "O       3\n",
       "d       3\n",
       "T       2\n",
       "X       2\n",
       "S       1\n",
       "        1\n",
       "N       1\n",
       "Name: count, dtype: int64"
      ]
     },
     "execution_count": 28,
     "metadata": {},
     "output_type": "execute_result"
    }
   ],
   "source": [
    "eu['star_type'].value_counts()"
   ]
  },
  {
   "cell_type": "code",
   "execution_count": 30,
   "id": "a3d9cecc-1cbe-4723-90cc-cfa558b934f2",
   "metadata": {},
   "outputs": [],
   "source": [
    "desired_star_types = ['O', 'B', 'A', 'F', 'G', 'K', 'M'] # Morgan-Keenan system simplified\n",
    "\n",
    "eu = eu[eu['star_type'].isin(desired_star_types)]"
   ]
  },
  {
   "cell_type": "code",
   "execution_count": 32,
   "id": "3f4eccdb-3b98-4a21-8f32-109799766aa5",
   "metadata": {},
   "outputs": [
    {
     "data": {
      "text/plain": [
       "star_type\n",
       "G    1445\n",
       "K     996\n",
       "M     785\n",
       "F     496\n",
       "A      72\n",
       "B      36\n",
       "O       3\n",
       "Name: count, dtype: int64"
      ]
     },
     "execution_count": 32,
     "metadata": {},
     "output_type": "execute_result"
    }
   ],
   "source": [
    "eu['star_type'].value_counts()"
   ]
  },
  {
   "cell_type": "code",
   "execution_count": 34,
   "id": "792acf59-600b-49b7-a5ea-ac5fe93d6065",
   "metadata": {},
   "outputs": [
    {
     "name": "stdout",
     "output_type": "stream",
     "text": [
      "<class 'pandas.core.frame.DataFrame'>\n",
      "Index: 3833 entries, 0 to 9827\n",
      "Data columns (total 15 columns):\n",
      " #   Column           Non-Null Count  Dtype  \n",
      "---  ------           --------------  -----  \n",
      " 0   name             3833 non-null   object \n",
      " 1   planet_status    3833 non-null   object \n",
      " 2   mass             3833 non-null   float64\n",
      " 3   radius           3833 non-null   float64\n",
      " 4   orbital_period   3833 non-null   float64\n",
      " 5   semi_major_axis  3833 non-null   float64\n",
      " 6   eccentricity     3833 non-null   float64\n",
      " 7   inclination      3833 non-null   float64\n",
      " 8   discovered       3833 non-null   float64\n",
      " 9   detection_type   3833 non-null   object \n",
      " 10  star_distance    3833 non-null   float64\n",
      " 11  star_mass        3833 non-null   float64\n",
      " 12  star_radius      3833 non-null   float64\n",
      " 13  star_sp_type     3833 non-null   object \n",
      " 14  star_type        3833 non-null   object \n",
      "dtypes: float64(10), object(5)\n",
      "memory usage: 479.1+ KB\n"
     ]
    }
   ],
   "source": [
    "eu.info()"
   ]
  },
  {
   "cell_type": "code",
   "execution_count": 36,
   "id": "ef0196c8-d6ea-4e79-baeb-609de3aa6249",
   "metadata": {},
   "outputs": [
    {
     "name": "stdout",
     "output_type": "stream",
     "text": [
      "                   detection_type detection_type_final\n",
      "0     Radial Velocity, Astrometry      Radial Velocity\n",
      "1                 Radial Velocity      Radial Velocity\n",
      "2                 Radial Velocity      Radial Velocity\n",
      "3                 Radial Velocity      Radial Velocity\n",
      "4     Radial Velocity, Astrometry      Radial Velocity\n",
      "...                           ...                  ...\n",
      "9822              Radial Velocity      Radial Velocity\n",
      "9823              Radial Velocity      Radial Velocity\n",
      "9825                      Imaging              Imaging\n",
      "9826              Radial Velocity      Radial Velocity\n",
      "9827             Kinematic, Other                Other\n",
      "\n",
      "[3833 rows x 2 columns]\n"
     ]
    }
   ],
   "source": [
    "# Fixing the detection_type column to focus on the most effective ones\n",
    "main_types = ['Radial Velocity', 'Microlensing', 'Primary Transit', 'Imaging', 'Astrometry']\n",
    "\n",
    "# making the function to keep only the main detection types and remmove everything after the first comma\n",
    "def filter_main_types(detection_type):\n",
    "    for main_type in main_types:\n",
    "        if main_type in detection_type:\n",
    "            return main_type\n",
    "    return 'Other'\n",
    "\n",
    "eu['detection_type_filtered'] = eu['detection_type'].apply(lambda x: x.split(',')[0].strip())\n",
    "eu['detection_type_final'] = eu['detection_type_filtered'].apply(filter_main_types)\n",
    "\n",
    "print(eu[['detection_type', 'detection_type_final']])"
   ]
  },
  {
   "cell_type": "code",
   "execution_count": 38,
   "id": "5c58ef8f-ede6-424d-93ca-1091bb8e29f2",
   "metadata": {},
   "outputs": [
    {
     "data": {
      "text/plain": [
       "detection_type_final\n",
       "Primary Transit    1865\n",
       "Radial Velocity    1348\n",
       "Imaging             346\n",
       "Other               190\n",
       "Astrometry           58\n",
       "Microlensing         26\n",
       "Name: count, dtype: int64"
      ]
     },
     "execution_count": 38,
     "metadata": {},
     "output_type": "execute_result"
    }
   ],
   "source": [
    "eu['detection_type_final'].value_counts() # need to plot everything but 'other'"
   ]
  },
  {
   "cell_type": "code",
   "execution_count": 40,
   "id": "fe31ee7e-4007-4fe5-bb84-74cb5aed9226",
   "metadata": {},
   "outputs": [],
   "source": [
    "# removing rows with 'Other' in the detection_type column\n",
    "eu = eu[eu['detection_type_final'] != 'Other']"
   ]
  },
  {
   "cell_type": "code",
   "execution_count": 42,
   "id": "e0d2ed56-9f6c-4107-af1e-7396f9212e62",
   "metadata": {},
   "outputs": [
    {
     "data": {
      "text/plain": [
       "detection_type_final\n",
       "Primary Transit    1865\n",
       "Radial Velocity    1348\n",
       "Imaging             346\n",
       "Astrometry           58\n",
       "Microlensing         26\n",
       "Name: count, dtype: int64"
      ]
     },
     "execution_count": 42,
     "metadata": {},
     "output_type": "execute_result"
    }
   ],
   "source": [
    "eu['detection_type_final'].value_counts() # need to plot everything but 'other'"
   ]
  },
  {
   "cell_type": "code",
   "execution_count": 44,
   "id": "9e8a71f1-425a-489d-83d4-f903c0798900",
   "metadata": {},
   "outputs": [],
   "source": [
    "# removing any unnecessary columns\n",
    "\n",
    "eu.drop(['star_sp_type', 'detection_type', 'detection_type_filtered'], axis=1, inplace=True)"
   ]
  },
  {
   "cell_type": "code",
   "execution_count": 46,
   "id": "d07809e4-ca56-46a9-b5b8-69ff08060bd5",
   "metadata": {},
   "outputs": [],
   "source": [
    "# fixing my year column"
   ]
  },
  {
   "cell_type": "code",
   "execution_count": 48,
   "id": "714cf281-7724-4b5f-94c6-2db2f678de7d",
   "metadata": {},
   "outputs": [
    {
     "data": {
      "text/plain": [
       "discovered\n",
       "2017.0    543\n",
       "2016.0    300\n",
       "2022.0    299\n",
       "2014.0    226\n",
       "2019.0    210\n",
       "Name: count, dtype: int64"
      ]
     },
     "execution_count": 48,
     "metadata": {},
     "output_type": "execute_result"
    }
   ],
   "source": [
    "eu['discovered'].value_counts().head()"
   ]
  },
  {
   "cell_type": "code",
   "execution_count": 50,
   "id": "6f41dc5a-310e-4be0-8c03-6cc692bc2029",
   "metadata": {},
   "outputs": [],
   "source": [
    "eu['discovered'] = eu['discovered'].apply(lambda x: int(x))"
   ]
  },
  {
   "cell_type": "code",
   "execution_count": 52,
   "id": "c7ec6b13-06ea-4e7c-959c-c5f4db523a76",
   "metadata": {},
   "outputs": [
    {
     "data": {
      "text/plain": [
       "dtype('int64')"
      ]
     },
     "execution_count": 52,
     "metadata": {},
     "output_type": "execute_result"
    }
   ],
   "source": [
    "eu['discovered'].dtype"
   ]
  },
  {
   "cell_type": "code",
   "execution_count": 54,
   "id": "8b289c3b-a025-48b1-920b-7488a3a8123a",
   "metadata": {},
   "outputs": [
    {
     "data": {
      "text/plain": [
       "discovered\n",
       "2017    543\n",
       "2016    300\n",
       "2022    299\n",
       "2014    226\n",
       "2019    210\n",
       "2018    206\n",
       "2024    188\n",
       "2021    183\n",
       "2011    175\n",
       "2020    144\n",
       "2010    141\n",
       "2015    139\n",
       "2013    128\n",
       "2023    127\n",
       "2012    105\n",
       "2009     90\n",
       "2007     80\n",
       "2008     65\n",
       "2002     45\n",
       "2004     43\n",
       "2005     41\n",
       "2006     39\n",
       "2003     31\n",
       "2000     22\n",
       "2001     20\n",
       "1999     19\n",
       "1996     10\n",
       "1998      9\n",
       "0         7\n",
       "1995      2\n",
       "1991      2\n",
       "1997      2\n",
       "1988      1\n",
       "1989      1\n",
       "Name: count, dtype: int64"
      ]
     },
     "execution_count": 54,
     "metadata": {},
     "output_type": "execute_result"
    }
   ],
   "source": [
    "eu['discovered'].value_counts()"
   ]
  },
  {
   "cell_type": "code",
   "execution_count": 56,
   "id": "748d1501-5c75-468f-88c4-9f6f6bf371e1",
   "metadata": {},
   "outputs": [],
   "source": [
    "# removing the yeear 2025 and 0\n",
    "eu = eu[(eu['discovered'] != 2025) & (eu['discovered'] != 0)]\n",
    "\n",
    "# coming back and removing every year before the year 2000\n",
    "eu = eu[eu['discovered'] >= 2000]"
   ]
  },
  {
   "cell_type": "code",
   "execution_count": 58,
   "id": "7dec9318-104a-4e0d-b320-30334fb2a75c",
   "metadata": {},
   "outputs": [
    {
     "data": {
      "text/plain": [
       "discovered\n",
       "2017    543\n",
       "2016    300\n",
       "2022    299\n",
       "2014    226\n",
       "2019    210\n",
       "2018    206\n",
       "2024    188\n",
       "2021    183\n",
       "2011    175\n",
       "2020    144\n",
       "2010    141\n",
       "2015    139\n",
       "2013    128\n",
       "2023    127\n",
       "2012    105\n",
       "2009     90\n",
       "2007     80\n",
       "2008     65\n",
       "2002     45\n",
       "2004     43\n",
       "2005     41\n",
       "2006     39\n",
       "2003     31\n",
       "2000     22\n",
       "2001     20\n",
       "Name: count, dtype: int64"
      ]
     },
     "execution_count": 58,
     "metadata": {},
     "output_type": "execute_result"
    }
   ],
   "source": [
    "eu['discovered'].value_counts()"
   ]
  },
  {
   "cell_type": "code",
   "execution_count": 60,
   "id": "2298f91b-07d5-4d02-98d5-be905e86f4e3",
   "metadata": {},
   "outputs": [],
   "source": [
    "# renaming columns\n",
    "\n",
    "eu = eu.rename(columns= {'name':'planet_name', 'mass':'planet_mass', 'radius':'planet_radius', 'detection_type_final':'detection_type', 'discovered':'year'})"
   ]
  },
  {
   "cell_type": "code",
   "execution_count": 62,
   "id": "305ca513-74a7-413f-a2b2-c6c3e01f06e3",
   "metadata": {},
   "outputs": [
    {
     "data": {
      "text/html": [
       "<div>\n",
       "<style scoped>\n",
       "    .dataframe tbody tr th:only-of-type {\n",
       "        vertical-align: middle;\n",
       "    }\n",
       "\n",
       "    .dataframe tbody tr th {\n",
       "        vertical-align: top;\n",
       "    }\n",
       "\n",
       "    .dataframe thead th {\n",
       "        text-align: right;\n",
       "    }\n",
       "</style>\n",
       "<table border=\"1\" class=\"dataframe\">\n",
       "  <thead>\n",
       "    <tr style=\"text-align: right;\">\n",
       "      <th></th>\n",
       "      <th>planet_name</th>\n",
       "      <th>planet_status</th>\n",
       "      <th>planet_mass</th>\n",
       "      <th>planet_radius</th>\n",
       "      <th>orbital_period</th>\n",
       "      <th>semi_major_axis</th>\n",
       "      <th>eccentricity</th>\n",
       "      <th>inclination</th>\n",
       "      <th>year</th>\n",
       "      <th>star_distance</th>\n",
       "      <th>star_mass</th>\n",
       "      <th>star_radius</th>\n",
       "      <th>star_type</th>\n",
       "      <th>detection_type</th>\n",
       "    </tr>\n",
       "  </thead>\n",
       "  <tbody>\n",
       "    <tr>\n",
       "      <th>0</th>\n",
       "      <td>109 Psc b</td>\n",
       "      <td>Confirmed</td>\n",
       "      <td>5.743</td>\n",
       "      <td>1.152</td>\n",
       "      <td>1075.4</td>\n",
       "      <td>2.051</td>\n",
       "      <td>0.104</td>\n",
       "      <td>86.116</td>\n",
       "      <td>2000</td>\n",
       "      <td>32.5600</td>\n",
       "      <td>1.13</td>\n",
       "      <td>1.790</td>\n",
       "      <td>G</td>\n",
       "      <td>Radial Velocity</td>\n",
       "    </tr>\n",
       "    <tr>\n",
       "      <th>1</th>\n",
       "      <td>109 Tau b</td>\n",
       "      <td>Candidate</td>\n",
       "      <td>16.000</td>\n",
       "      <td>0.000</td>\n",
       "      <td>26.0</td>\n",
       "      <td>0.232</td>\n",
       "      <td>0.000</td>\n",
       "      <td>0.000</td>\n",
       "      <td>2005</td>\n",
       "      <td>71.0625</td>\n",
       "      <td>2.47</td>\n",
       "      <td>9.800</td>\n",
       "      <td>G</td>\n",
       "      <td>Radial Velocity</td>\n",
       "    </tr>\n",
       "    <tr>\n",
       "      <th>2</th>\n",
       "      <td>110 Vir b</td>\n",
       "      <td>Candidate</td>\n",
       "      <td>1.600</td>\n",
       "      <td>0.000</td>\n",
       "      <td>507.0</td>\n",
       "      <td>1.370</td>\n",
       "      <td>0.300</td>\n",
       "      <td>0.000</td>\n",
       "      <td>2004</td>\n",
       "      <td>58.8085</td>\n",
       "      <td>1.30</td>\n",
       "      <td>13.400</td>\n",
       "      <td>K</td>\n",
       "      <td>Radial Velocity</td>\n",
       "    </tr>\n",
       "    <tr>\n",
       "      <th>3</th>\n",
       "      <td>112 Psc b</td>\n",
       "      <td>Confirmed</td>\n",
       "      <td>0.033</td>\n",
       "      <td>0.000</td>\n",
       "      <td>4.4</td>\n",
       "      <td>0.054</td>\n",
       "      <td>0.376</td>\n",
       "      <td>0.000</td>\n",
       "      <td>2022</td>\n",
       "      <td>31.7627</td>\n",
       "      <td>1.10</td>\n",
       "      <td>1.801</td>\n",
       "      <td>G</td>\n",
       "      <td>Radial Velocity</td>\n",
       "    </tr>\n",
       "  </tbody>\n",
       "</table>\n",
       "</div>"
      ],
      "text/plain": [
       "  planet_name planet_status  planet_mass  planet_radius  orbital_period  \\\n",
       "0   109 Psc b     Confirmed        5.743          1.152          1075.4   \n",
       "1   109 Tau b     Candidate       16.000          0.000            26.0   \n",
       "2   110 Vir b     Candidate        1.600          0.000           507.0   \n",
       "3   112 Psc b     Confirmed        0.033          0.000             4.4   \n",
       "\n",
       "   semi_major_axis  eccentricity  inclination  year  star_distance  star_mass  \\\n",
       "0            2.051         0.104       86.116  2000        32.5600       1.13   \n",
       "1            0.232         0.000        0.000  2005        71.0625       2.47   \n",
       "2            1.370         0.300        0.000  2004        58.8085       1.30   \n",
       "3            0.054         0.376        0.000  2022        31.7627       1.10   \n",
       "\n",
       "   star_radius star_type   detection_type  \n",
       "0        1.790         G  Radial Velocity  \n",
       "1        9.800         G  Radial Velocity  \n",
       "2       13.400         K  Radial Velocity  \n",
       "3        1.801         G  Radial Velocity  "
      ]
     },
     "execution_count": 62,
     "metadata": {},
     "output_type": "execute_result"
    }
   ],
   "source": [
    "eu.head(4) # now I have something to work with! woo hoo!"
   ]
  },
  {
   "cell_type": "code",
   "execution_count": 64,
   "id": "864f8015-4e3b-4abe-a806-677da844541c",
   "metadata": {},
   "outputs": [],
   "source": [
    "# Saaving the DataFrame to a CSV file to use in PowerBI\n",
    "# eu.to_csv('pandasClean_exoplanetEU.csv', index=False)"
   ]
  },
  {
   "cell_type": "markdown",
   "id": "051ca215-92ef-42d8-99a2-49ddb82f65ce",
   "metadata": {
    "jp-MarkdownHeadingCollapsed": true
   },
   "source": [
    "# Adding Columns 🏛️"
   ]
  },
  {
   "cell_type": "code",
   "execution_count": 67,
   "id": "e69f8ce8-217e-4088-9a3b-ed4e70c3ca83",
   "metadata": {},
   "outputs": [],
   "source": [
    "# Classifying exoplanets into categories based on their characteristics, such as: terrestrial planets, gas giants, and super-earths"
   ]
  },
  {
   "cell_type": "code",
   "execution_count": 69,
   "id": "917e9a34-143e-40fd-a4ec-c7052bd01a85",
   "metadata": {},
   "outputs": [],
   "source": [
    "conditions = [\n",
    "    (eu['planet_mass'] < 0.1),\n",
    "    (eu['planet_mass'] >= 0.1) & (eu['planet_mass'] < 0.5),\n",
    "    (eu['planet_mass'] >= 0.5)\n",
    "]\n",
    "choices = ['Terrestrial', 'Super-Earth', 'Gas Giant']\n",
    "eu['planet_type'] = np.select(conditions, choices, default='Unknown')"
   ]
  },
  {
   "cell_type": "code",
   "execution_count": 71,
   "id": "ec59ed63-8991-4f4f-803f-f06df88b27ca",
   "metadata": {},
   "outputs": [
    {
     "data": {
      "text/html": [
       "<div>\n",
       "<style scoped>\n",
       "    .dataframe tbody tr th:only-of-type {\n",
       "        vertical-align: middle;\n",
       "    }\n",
       "\n",
       "    .dataframe tbody tr th {\n",
       "        vertical-align: top;\n",
       "    }\n",
       "\n",
       "    .dataframe thead th {\n",
       "        text-align: right;\n",
       "    }\n",
       "</style>\n",
       "<table border=\"1\" class=\"dataframe\">\n",
       "  <thead>\n",
       "    <tr style=\"text-align: right;\">\n",
       "      <th></th>\n",
       "      <th>planet_name</th>\n",
       "      <th>planet_status</th>\n",
       "      <th>planet_mass</th>\n",
       "      <th>planet_radius</th>\n",
       "      <th>orbital_period</th>\n",
       "      <th>semi_major_axis</th>\n",
       "      <th>eccentricity</th>\n",
       "      <th>inclination</th>\n",
       "      <th>year</th>\n",
       "      <th>star_distance</th>\n",
       "      <th>star_mass</th>\n",
       "      <th>star_radius</th>\n",
       "      <th>star_type</th>\n",
       "      <th>detection_type</th>\n",
       "      <th>planet_type</th>\n",
       "    </tr>\n",
       "  </thead>\n",
       "  <tbody>\n",
       "    <tr>\n",
       "      <th>0</th>\n",
       "      <td>109 Psc b</td>\n",
       "      <td>Confirmed</td>\n",
       "      <td>5.743</td>\n",
       "      <td>1.152</td>\n",
       "      <td>1075.4</td>\n",
       "      <td>2.051</td>\n",
       "      <td>0.104</td>\n",
       "      <td>86.116</td>\n",
       "      <td>2000</td>\n",
       "      <td>32.5600</td>\n",
       "      <td>1.13</td>\n",
       "      <td>1.790</td>\n",
       "      <td>G</td>\n",
       "      <td>Radial Velocity</td>\n",
       "      <td>Gas Giant</td>\n",
       "    </tr>\n",
       "    <tr>\n",
       "      <th>1</th>\n",
       "      <td>109 Tau b</td>\n",
       "      <td>Candidate</td>\n",
       "      <td>16.000</td>\n",
       "      <td>0.000</td>\n",
       "      <td>26.0</td>\n",
       "      <td>0.232</td>\n",
       "      <td>0.000</td>\n",
       "      <td>0.000</td>\n",
       "      <td>2005</td>\n",
       "      <td>71.0625</td>\n",
       "      <td>2.47</td>\n",
       "      <td>9.800</td>\n",
       "      <td>G</td>\n",
       "      <td>Radial Velocity</td>\n",
       "      <td>Gas Giant</td>\n",
       "    </tr>\n",
       "    <tr>\n",
       "      <th>2</th>\n",
       "      <td>110 Vir b</td>\n",
       "      <td>Candidate</td>\n",
       "      <td>1.600</td>\n",
       "      <td>0.000</td>\n",
       "      <td>507.0</td>\n",
       "      <td>1.370</td>\n",
       "      <td>0.300</td>\n",
       "      <td>0.000</td>\n",
       "      <td>2004</td>\n",
       "      <td>58.8085</td>\n",
       "      <td>1.30</td>\n",
       "      <td>13.400</td>\n",
       "      <td>K</td>\n",
       "      <td>Radial Velocity</td>\n",
       "      <td>Gas Giant</td>\n",
       "    </tr>\n",
       "    <tr>\n",
       "      <th>3</th>\n",
       "      <td>112 Psc b</td>\n",
       "      <td>Confirmed</td>\n",
       "      <td>0.033</td>\n",
       "      <td>0.000</td>\n",
       "      <td>4.4</td>\n",
       "      <td>0.054</td>\n",
       "      <td>0.376</td>\n",
       "      <td>0.000</td>\n",
       "      <td>2022</td>\n",
       "      <td>31.7627</td>\n",
       "      <td>1.10</td>\n",
       "      <td>1.801</td>\n",
       "      <td>G</td>\n",
       "      <td>Radial Velocity</td>\n",
       "      <td>Terrestrial</td>\n",
       "    </tr>\n",
       "  </tbody>\n",
       "</table>\n",
       "</div>"
      ],
      "text/plain": [
       "  planet_name planet_status  planet_mass  planet_radius  orbital_period  \\\n",
       "0   109 Psc b     Confirmed        5.743          1.152          1075.4   \n",
       "1   109 Tau b     Candidate       16.000          0.000            26.0   \n",
       "2   110 Vir b     Candidate        1.600          0.000           507.0   \n",
       "3   112 Psc b     Confirmed        0.033          0.000             4.4   \n",
       "\n",
       "   semi_major_axis  eccentricity  inclination  year  star_distance  star_mass  \\\n",
       "0            2.051         0.104       86.116  2000        32.5600       1.13   \n",
       "1            0.232         0.000        0.000  2005        71.0625       2.47   \n",
       "2            1.370         0.300        0.000  2004        58.8085       1.30   \n",
       "3            0.054         0.376        0.000  2022        31.7627       1.10   \n",
       "\n",
       "   star_radius star_type   detection_type  planet_type  \n",
       "0        1.790         G  Radial Velocity    Gas Giant  \n",
       "1        9.800         G  Radial Velocity    Gas Giant  \n",
       "2       13.400         K  Radial Velocity    Gas Giant  \n",
       "3        1.801         G  Radial Velocity  Terrestrial  "
      ]
     },
     "execution_count": 71,
     "metadata": {},
     "output_type": "execute_result"
    }
   ],
   "source": [
    "eu.head(4)"
   ]
  },
  {
   "cell_type": "code",
   "execution_count": null,
   "id": "2a2759e0-4d90-48b1-a317-55edb3dba20a",
   "metadata": {},
   "outputs": [],
   "source": []
  },
  {
   "cell_type": "code",
   "execution_count": 74,
   "id": "b3a17f19-2f5f-44a4-8196-2daeb75e68ac",
   "metadata": {},
   "outputs": [],
   "source": [
    "# This categorizes exoplanets into 'Low Inclination', 'Medium Inclination', and 'High Inclination' based on their orbital inclinations."
   ]
  },
  {
   "cell_type": "code",
   "execution_count": 76,
   "id": "b99adb5b-ba9a-40ec-ad76-427f681a54c1",
   "metadata": {},
   "outputs": [],
   "source": [
    "conditions_inclination = [\n",
    "    (eu['inclination'] < 10),\n",
    "    (eu['inclination'] >= 10) & (eu['inclination'] < 30),\n",
    "    (eu['inclination'] >= 30)\n",
    "]\n",
    "choices_inclination = ['Low Inclination', 'Medium Inclination', 'High Inclination']\n",
    "eu['inclination_category'] = np.select(conditions_inclination, choices_inclination, default='Unknown')"
   ]
  },
  {
   "cell_type": "code",
   "execution_count": 78,
   "id": "6de96d77-99ac-4892-b99c-6e8ba9acf7ca",
   "metadata": {},
   "outputs": [],
   "source": [
    "# Proportion of exoplanets in each inclination category"
   ]
  },
  {
   "cell_type": "code",
   "execution_count": 80,
   "id": "4c2c39f1-9814-4b49-b0bd-fa4cc01153f5",
   "metadata": {},
   "outputs": [
    {
     "data": {
      "text/html": [
       "<div>\n",
       "<style scoped>\n",
       "    .dataframe tbody tr th:only-of-type {\n",
       "        vertical-align: middle;\n",
       "    }\n",
       "\n",
       "    .dataframe tbody tr th {\n",
       "        vertical-align: top;\n",
       "    }\n",
       "\n",
       "    .dataframe thead th {\n",
       "        text-align: right;\n",
       "    }\n",
       "</style>\n",
       "<table border=\"1\" class=\"dataframe\">\n",
       "  <thead>\n",
       "    <tr style=\"text-align: right;\">\n",
       "      <th></th>\n",
       "      <th>planet_name</th>\n",
       "      <th>planet_status</th>\n",
       "      <th>planet_mass</th>\n",
       "      <th>planet_radius</th>\n",
       "      <th>orbital_period</th>\n",
       "      <th>semi_major_axis</th>\n",
       "      <th>eccentricity</th>\n",
       "      <th>inclination</th>\n",
       "      <th>year</th>\n",
       "      <th>star_distance</th>\n",
       "      <th>star_mass</th>\n",
       "      <th>star_radius</th>\n",
       "      <th>star_type</th>\n",
       "      <th>detection_type</th>\n",
       "      <th>planet_type</th>\n",
       "      <th>inclination_category</th>\n",
       "    </tr>\n",
       "  </thead>\n",
       "  <tbody>\n",
       "    <tr>\n",
       "      <th>0</th>\n",
       "      <td>109 Psc b</td>\n",
       "      <td>Confirmed</td>\n",
       "      <td>5.743</td>\n",
       "      <td>1.152</td>\n",
       "      <td>1075.4</td>\n",
       "      <td>2.051</td>\n",
       "      <td>0.104</td>\n",
       "      <td>86.116</td>\n",
       "      <td>2000</td>\n",
       "      <td>32.5600</td>\n",
       "      <td>1.13</td>\n",
       "      <td>1.790</td>\n",
       "      <td>G</td>\n",
       "      <td>Radial Velocity</td>\n",
       "      <td>Gas Giant</td>\n",
       "      <td>High Inclination</td>\n",
       "    </tr>\n",
       "    <tr>\n",
       "      <th>1</th>\n",
       "      <td>109 Tau b</td>\n",
       "      <td>Candidate</td>\n",
       "      <td>16.000</td>\n",
       "      <td>0.000</td>\n",
       "      <td>26.0</td>\n",
       "      <td>0.232</td>\n",
       "      <td>0.000</td>\n",
       "      <td>0.000</td>\n",
       "      <td>2005</td>\n",
       "      <td>71.0625</td>\n",
       "      <td>2.47</td>\n",
       "      <td>9.800</td>\n",
       "      <td>G</td>\n",
       "      <td>Radial Velocity</td>\n",
       "      <td>Gas Giant</td>\n",
       "      <td>Low Inclination</td>\n",
       "    </tr>\n",
       "    <tr>\n",
       "      <th>2</th>\n",
       "      <td>110 Vir b</td>\n",
       "      <td>Candidate</td>\n",
       "      <td>1.600</td>\n",
       "      <td>0.000</td>\n",
       "      <td>507.0</td>\n",
       "      <td>1.370</td>\n",
       "      <td>0.300</td>\n",
       "      <td>0.000</td>\n",
       "      <td>2004</td>\n",
       "      <td>58.8085</td>\n",
       "      <td>1.30</td>\n",
       "      <td>13.400</td>\n",
       "      <td>K</td>\n",
       "      <td>Radial Velocity</td>\n",
       "      <td>Gas Giant</td>\n",
       "      <td>Low Inclination</td>\n",
       "    </tr>\n",
       "    <tr>\n",
       "      <th>3</th>\n",
       "      <td>112 Psc b</td>\n",
       "      <td>Confirmed</td>\n",
       "      <td>0.033</td>\n",
       "      <td>0.000</td>\n",
       "      <td>4.4</td>\n",
       "      <td>0.054</td>\n",
       "      <td>0.376</td>\n",
       "      <td>0.000</td>\n",
       "      <td>2022</td>\n",
       "      <td>31.7627</td>\n",
       "      <td>1.10</td>\n",
       "      <td>1.801</td>\n",
       "      <td>G</td>\n",
       "      <td>Radial Velocity</td>\n",
       "      <td>Terrestrial</td>\n",
       "      <td>Low Inclination</td>\n",
       "    </tr>\n",
       "  </tbody>\n",
       "</table>\n",
       "</div>"
      ],
      "text/plain": [
       "  planet_name planet_status  planet_mass  planet_radius  orbital_period  \\\n",
       "0   109 Psc b     Confirmed        5.743          1.152          1075.4   \n",
       "1   109 Tau b     Candidate       16.000          0.000            26.0   \n",
       "2   110 Vir b     Candidate        1.600          0.000           507.0   \n",
       "3   112 Psc b     Confirmed        0.033          0.000             4.4   \n",
       "\n",
       "   semi_major_axis  eccentricity  inclination  year  star_distance  star_mass  \\\n",
       "0            2.051         0.104       86.116  2000        32.5600       1.13   \n",
       "1            0.232         0.000        0.000  2005        71.0625       2.47   \n",
       "2            1.370         0.300        0.000  2004        58.8085       1.30   \n",
       "3            0.054         0.376        0.000  2022        31.7627       1.10   \n",
       "\n",
       "   star_radius star_type   detection_type  planet_type inclination_category  \n",
       "0        1.790         G  Radial Velocity    Gas Giant     High Inclination  \n",
       "1        9.800         G  Radial Velocity    Gas Giant      Low Inclination  \n",
       "2       13.400         K  Radial Velocity    Gas Giant      Low Inclination  \n",
       "3        1.801         G  Radial Velocity  Terrestrial      Low Inclination  "
      ]
     },
     "execution_count": 80,
     "metadata": {},
     "output_type": "execute_result"
    }
   ],
   "source": [
    "eu.head(4)"
   ]
  },
  {
   "cell_type": "code",
   "execution_count": 82,
   "id": "205f2390-52c6-4355-92a9-8d529b463537",
   "metadata": {},
   "outputs": [
    {
     "name": "stdout",
     "output_type": "stream",
     "text": [
      "inclination_category\n",
      "Low Inclination       51.894150\n",
      "High Inclination      46.935933\n",
      "Medium Inclination     1.169916\n",
      "Name: proportion, dtype: float64\n"
     ]
    }
   ],
   "source": [
    "inclination_distribution = eu['inclination_category'].value_counts(normalize=True) * 100\n",
    "print(inclination_distribution)"
   ]
  },
  {
   "cell_type": "code",
   "execution_count": null,
   "id": "1532133b-1bdb-4aa7-9db7-cc36132069bb",
   "metadata": {},
   "outputs": [],
   "source": []
  },
  {
   "cell_type": "code",
   "execution_count": 85,
   "id": "486fa670-4520-4199-834e-b002028fe135",
   "metadata": {},
   "outputs": [],
   "source": [
    "# Now attempting to calculate the habitable zone for each star"
   ]
  },
  {
   "cell_type": "code",
   "execution_count": 87,
   "id": "51280f28-ea9f-41ee-86f3-3a480f50607e",
   "metadata": {},
   "outputs": [
    {
     "name": "stdout",
     "output_type": "stream",
     "text": [
      "                  planet_name  semi_major_axis star_type\n",
      "0                   109 Psc b          2.05100         G\n",
      "2                   110 Vir b          1.37000         K\n",
      "36                   24 Sex c          2.08000         G\n",
      "37                  27 Hya Ab          5.90000         K\n",
      "143   2MASS J05373850+2428517          0.00000         M\n",
      "...                       ...              ...       ...\n",
      "9618                WASP-57 b          0.00000         G\n",
      "9783              Wolf 1061 c          0.08900         M\n",
      "9785              Wolf 1069 b          0.06720         M\n",
      "9821                 YZ Cet c          0.02156         M\n",
      "9822                 YZ Cet d          0.02851         M\n",
      "\n",
      "[338 rows x 3 columns]\n"
     ]
    }
   ],
   "source": [
    "def habitable_zone(star_luminosity):\n",
    "    inner_bound = 0.75 * (star_luminosity ** 0.5)\n",
    "    outer_bound = 1.75 * (star_luminosity ** 0.5)\n",
    "    return inner_bound, outer_bound\n",
    "\n",
    "# this is assuming star_luminosity is related to star_mass... I will double check this if I use this.\n",
    "eu['star_luminosity'] = eu['star_mass'] ** 3.5\n",
    "eu['hz_inner'], eu['hz_outer'] = zip(*eu['star_luminosity'].apply(habitable_zone))\n",
    "\n",
    "# exoplanets in the habitable zone\n",
    "eu['in_habitable_zone'] = (eu['semi_major_axis'] >= eu['hz_inner']) & (eu['semi_major_axis'] <= eu['hz_outer'])\n",
    "habitable_exoplanets = eu[eu['in_habitable_zone']]\n",
    "print(habitable_exoplanets[['planet_name', 'semi_major_axis', 'star_type']])"
   ]
  },
  {
   "cell_type": "code",
   "execution_count": 89,
   "id": "f3105b49-783f-4fab-8b76-d65ae2ee3fbe",
   "metadata": {},
   "outputs": [
    {
     "data": {
      "text/html": [
       "<div>\n",
       "<style scoped>\n",
       "    .dataframe tbody tr th:only-of-type {\n",
       "        vertical-align: middle;\n",
       "    }\n",
       "\n",
       "    .dataframe tbody tr th {\n",
       "        vertical-align: top;\n",
       "    }\n",
       "\n",
       "    .dataframe thead th {\n",
       "        text-align: right;\n",
       "    }\n",
       "</style>\n",
       "<table border=\"1\" class=\"dataframe\">\n",
       "  <thead>\n",
       "    <tr style=\"text-align: right;\">\n",
       "      <th></th>\n",
       "      <th>planet_name</th>\n",
       "      <th>planet_status</th>\n",
       "      <th>planet_mass</th>\n",
       "      <th>planet_radius</th>\n",
       "      <th>orbital_period</th>\n",
       "      <th>semi_major_axis</th>\n",
       "      <th>eccentricity</th>\n",
       "      <th>inclination</th>\n",
       "      <th>year</th>\n",
       "      <th>star_distance</th>\n",
       "      <th>star_mass</th>\n",
       "      <th>star_radius</th>\n",
       "      <th>star_type</th>\n",
       "      <th>detection_type</th>\n",
       "      <th>planet_type</th>\n",
       "      <th>inclination_category</th>\n",
       "      <th>star_luminosity</th>\n",
       "      <th>hz_inner</th>\n",
       "      <th>hz_outer</th>\n",
       "      <th>in_habitable_zone</th>\n",
       "    </tr>\n",
       "  </thead>\n",
       "  <tbody>\n",
       "    <tr>\n",
       "      <th>0</th>\n",
       "      <td>109 Psc b</td>\n",
       "      <td>Confirmed</td>\n",
       "      <td>5.743</td>\n",
       "      <td>1.152</td>\n",
       "      <td>1075.4</td>\n",
       "      <td>2.051</td>\n",
       "      <td>0.104</td>\n",
       "      <td>86.116</td>\n",
       "      <td>2000</td>\n",
       "      <td>32.5600</td>\n",
       "      <td>1.13</td>\n",
       "      <td>1.790</td>\n",
       "      <td>G</td>\n",
       "      <td>Radial Velocity</td>\n",
       "      <td>Gas Giant</td>\n",
       "      <td>High Inclination</td>\n",
       "      <td>1.533821</td>\n",
       "      <td>0.928856</td>\n",
       "      <td>2.167331</td>\n",
       "      <td>True</td>\n",
       "    </tr>\n",
       "    <tr>\n",
       "      <th>1</th>\n",
       "      <td>109 Tau b</td>\n",
       "      <td>Candidate</td>\n",
       "      <td>16.000</td>\n",
       "      <td>0.000</td>\n",
       "      <td>26.0</td>\n",
       "      <td>0.232</td>\n",
       "      <td>0.000</td>\n",
       "      <td>0.000</td>\n",
       "      <td>2005</td>\n",
       "      <td>71.0625</td>\n",
       "      <td>2.47</td>\n",
       "      <td>9.800</td>\n",
       "      <td>G</td>\n",
       "      <td>Radial Velocity</td>\n",
       "      <td>Gas Giant</td>\n",
       "      <td>Low Inclination</td>\n",
       "      <td>23.683143</td>\n",
       "      <td>3.649900</td>\n",
       "      <td>8.516433</td>\n",
       "      <td>False</td>\n",
       "    </tr>\n",
       "    <tr>\n",
       "      <th>2</th>\n",
       "      <td>110 Vir b</td>\n",
       "      <td>Candidate</td>\n",
       "      <td>1.600</td>\n",
       "      <td>0.000</td>\n",
       "      <td>507.0</td>\n",
       "      <td>1.370</td>\n",
       "      <td>0.300</td>\n",
       "      <td>0.000</td>\n",
       "      <td>2004</td>\n",
       "      <td>58.8085</td>\n",
       "      <td>1.30</td>\n",
       "      <td>13.400</td>\n",
       "      <td>K</td>\n",
       "      <td>Radial Velocity</td>\n",
       "      <td>Gas Giant</td>\n",
       "      <td>Low Inclination</td>\n",
       "      <td>2.504965</td>\n",
       "      <td>1.187031</td>\n",
       "      <td>2.769739</td>\n",
       "      <td>True</td>\n",
       "    </tr>\n",
       "    <tr>\n",
       "      <th>3</th>\n",
       "      <td>112 Psc b</td>\n",
       "      <td>Confirmed</td>\n",
       "      <td>0.033</td>\n",
       "      <td>0.000</td>\n",
       "      <td>4.4</td>\n",
       "      <td>0.054</td>\n",
       "      <td>0.376</td>\n",
       "      <td>0.000</td>\n",
       "      <td>2022</td>\n",
       "      <td>31.7627</td>\n",
       "      <td>1.10</td>\n",
       "      <td>1.801</td>\n",
       "      <td>G</td>\n",
       "      <td>Radial Velocity</td>\n",
       "      <td>Terrestrial</td>\n",
       "      <td>Low Inclination</td>\n",
       "      <td>1.395965</td>\n",
       "      <td>0.886132</td>\n",
       "      <td>2.067642</td>\n",
       "      <td>False</td>\n",
       "    </tr>\n",
       "  </tbody>\n",
       "</table>\n",
       "</div>"
      ],
      "text/plain": [
       "  planet_name planet_status  planet_mass  planet_radius  orbital_period  \\\n",
       "0   109 Psc b     Confirmed        5.743          1.152          1075.4   \n",
       "1   109 Tau b     Candidate       16.000          0.000            26.0   \n",
       "2   110 Vir b     Candidate        1.600          0.000           507.0   \n",
       "3   112 Psc b     Confirmed        0.033          0.000             4.4   \n",
       "\n",
       "   semi_major_axis  eccentricity  inclination  year  star_distance  star_mass  \\\n",
       "0            2.051         0.104       86.116  2000        32.5600       1.13   \n",
       "1            0.232         0.000        0.000  2005        71.0625       2.47   \n",
       "2            1.370         0.300        0.000  2004        58.8085       1.30   \n",
       "3            0.054         0.376        0.000  2022        31.7627       1.10   \n",
       "\n",
       "   star_radius star_type   detection_type  planet_type inclination_category  \\\n",
       "0        1.790         G  Radial Velocity    Gas Giant     High Inclination   \n",
       "1        9.800         G  Radial Velocity    Gas Giant      Low Inclination   \n",
       "2       13.400         K  Radial Velocity    Gas Giant      Low Inclination   \n",
       "3        1.801         G  Radial Velocity  Terrestrial      Low Inclination   \n",
       "\n",
       "   star_luminosity  hz_inner  hz_outer  in_habitable_zone  \n",
       "0         1.533821  0.928856  2.167331               True  \n",
       "1        23.683143  3.649900  8.516433              False  \n",
       "2         2.504965  1.187031  2.769739               True  \n",
       "3         1.395965  0.886132  2.067642              False  "
      ]
     },
     "execution_count": 89,
     "metadata": {},
     "output_type": "execute_result"
    }
   ],
   "source": [
    "eu.head(4)"
   ]
  },
  {
   "cell_type": "code",
   "execution_count": 91,
   "id": "195b462e-becf-4094-bf18-d88fab4fa0c9",
   "metadata": {},
   "outputs": [],
   "source": [
    "# Saaving the DataFrame to a CSV file to use in PowerBI\n",
    "# eu.to_csv('pandasClean_exoplanetEU_02.csv', index=False)"
   ]
  },
  {
   "cell_type": "markdown",
   "id": "90074845-4f51-4631-b7c5-66104e1a14e6",
   "metadata": {
    "jp-MarkdownHeadingCollapsed": true
   },
   "source": [
    "# Outer Worlds: Analyzing the Discovery and Characteristics of Exoplanets"
   ]
  },
  {
   "cell_type": "markdown",
   "id": "0f8b24b1-f605-4b94-8040-65891b1e11d2",
   "metadata": {},
   "source": [
    "Working the Data Questions 👨🏻‍🚀 "
   ]
  },
  {
   "cell_type": "markdown",
   "id": "a6f74fde-c143-4135-8e88-afa547526d95",
   "metadata": {
    "jp-MarkdownHeadingCollapsed": true
   },
   "source": [
    "# #1. What are some of the most common detection methods and their effectiveness?"
   ]
  },
  {
   "cell_type": "code",
   "execution_count": 96,
   "id": "087c989e-1b40-40ca-83d4-fbc4523a4c00",
   "metadata": {},
   "outputs": [
    {
     "name": "stdout",
     "output_type": "stream",
     "text": [
      "detection_type\n",
      "Primary Transit    1862\n",
      "Radial Velocity    1309\n",
      "Imaging             337\n",
      "Astrometry           57\n",
      "Microlensing         25\n",
      "Name: count, dtype: int64\n"
     ]
    },
    {
     "data": {
      "image/png": "[encoded data removed]",
      "text/plain": [
       "<Figure size 640x480 with 1 Axes>"
      ]
     },
     "metadata": {},
     "output_type": "display_data"
    }
   ],
   "source": [
    "detection_counts = eu['detection_type'].value_counts()\n",
    "print(detection_counts)\n",
    "\n",
    "detection_counts.plot(kind='barh')\n",
    "plt.xlabel('Detection Method')\n",
    "plt.ylabel('Number of Exoplanets Discovered')\n",
    "plt.title('Common Detection Methods');"
   ]
  },
  {
   "cell_type": "markdown",
   "id": "6589d862-5be0-49e1-9b7a-4d87c2fcacff",
   "metadata": {},
   "source": [
    "How have the methods for detecting exoplanets evolved over time?"
   ]
  },
  {
   "cell_type": "code",
   "execution_count": 99,
   "id": "993227e4-d6bd-422e-b0d7-bf8249d7b165",
   "metadata": {},
   "outputs": [
    {
     "data": {
      "image/png": "[encoded data removed]",
      "text/plain": [
       "<Figure size 640x480 with 1 Axes>"
      ]
     },
     "metadata": {},
     "output_type": "display_data"
    }
   ],
   "source": [
    "detection_method_trend = eu.groupby(['year', 'detection_type']).size().unstack().fillna(0)\n",
    "detection_method_trend.plot(kind='line', stacked=False)\n",
    "plt.xlabel('Year')\n",
    "plt.ylabel('Number of Exoplanets Discovered')\n",
    "plt.title('Detection Methods Over Time')\n",
    "plt.legend(title='Detection Type');"
   ]
  },
  {
   "cell_type": "markdown",
   "id": "eeb3d876-983c-4ce3-bfa8-00aeb9b0b69c",
   "metadata": {},
   "source": [
    "Success of Detection Methods"
   ]
  },
  {
   "cell_type": "code",
   "execution_count": 107,
   "id": "db90dcd2-75b2-4794-8347-e5dc65463a44",
   "metadata": {},
   "outputs": [
    {
     "name": "stdout",
     "output_type": "stream",
     "text": [
      "                 planet_mass  planet_radius\n",
      "detection_type                             \n",
      "Astrometry         29.943181       0.000000\n",
      "Imaging            31.354833       0.357395\n",
      "Microlensing       12.471847       0.000000\n",
      "Primary Transit     1.202304       0.509852\n",
      "Radial Velocity     8.555458       0.053379\n"
     ]
    }
   ],
   "source": [
    "# Grouping by detection method and calculate mean characteristics\n",
    "detection_method_stats = eu.groupby('detection_type').agg({'planet_mass': 'mean', 'planet_radius': 'mean'})\n",
    "print(detection_method_stats)"
   ]
  },
  {
   "cell_type": "code",
   "execution_count": null,
   "id": "ee572fc3-7c14-42da-9bab-ba56c1679244",
   "metadata": {},
   "outputs": [],
   "source": []
  },
  {
   "cell_type": "code",
   "execution_count": null,
   "id": "031861d2-455d-4515-a6b8-3474deb063ac",
   "metadata": {},
   "outputs": [],
   "source": []
  },
  {
   "cell_type": "code",
   "execution_count": null,
   "id": "50edf2fa-7120-4496-81c9-6258c26a74de",
   "metadata": {},
   "outputs": [],
   "source": []
  },
  {
   "cell_type": "markdown",
   "id": "9fdd5ce3-269b-4ed0-98c3-ebecdd45293f",
   "metadata": {
    "jp-MarkdownHeadingCollapsed": true
   },
   "source": [
    "# #2. What are the most common types of exoplanets discovered so far?"
   ]
  },
  {
   "cell_type": "code",
   "execution_count": 208,
   "id": "bfcbe608-0d52-40ae-86f8-480ea7c3654f",
   "metadata": {},
   "outputs": [
    {
     "name": "stdout",
     "output_type": "stream",
     "text": [
      "planet_type\n",
      "Terrestrial    1715\n",
      "Gas Giant      1598\n",
      "Super-Earth     277\n",
      "Name: count, dtype: int64\n",
      "Total number of detected planets\n",
      "3590\n"
     ]
    },
    {
     "data": {
      "image/png": "[encoded data removed]",
      "text/plain": [
       "<Figure size 640x480 with 1 Axes>"
      ]
     },
     "metadata": {},
     "output_type": "display_data"
    }
   ],
   "source": [
    "detection_counts = eu['planet_type'].value_counts()\n",
    "print(detection_counts)\n",
    "\n",
    "total_detections = eu['planet_type'].value_counts().sum()\n",
    "print('Total number of detected planets')\n",
    "print(total_detections)\n",
    "\n",
    "detection_counts.plot(kind='barh')\n",
    "plt.xlabel('Detection Method')\n",
    "plt.ylabel('Number of Exoplanets Discovered')\n",
    "plt.title('Common Detection Methods');"
   ]
  },
  {
   "cell_type": "code",
   "execution_count": 192,
   "id": "1e62021e-4b22-440f-b3d4-f735f9d95a09",
   "metadata": {},
   "outputs": [
    {
     "data": {
      "image/png": "[encoded data removed]",
      "text/plain": [
       "<Figure size 1200x800 with 1 Axes>"
      ]
     },
     "metadata": {},
     "output_type": "display_data"
    }
   ],
   "source": [
    "eu_filtered = eu[(eu['year'] >= 2014) & (eu['year'] <= 2024)]\n",
    "\n",
    "planet_discovery_counts = eu_filtered.groupby(['year', 'planet_type']).size().unstack().fillna(0)\n",
    "\n",
    "planet_discovery_counts.plot(kind='bar', stacked=False, figsize=(12, 8))\n",
    "plt.xlabel('')\n",
    "plt.ylabel('')\n",
    "plt.title('Number of Planets Discovered Each Year by Planet Type (2014-2024)')\n",
    "plt.legend(title='Planet Type');"
   ]
  },
  {
   "cell_type": "markdown",
   "id": "034aaed4-d4aa-4204-9d6b-0d500dd058b1",
   "metadata": {},
   "source": [
    "What is the range of orbital periods and semi-major axes of exoplanets?"
   ]
  },
  {
   "cell_type": "code",
   "execution_count": 113,
   "id": "d720be0d-e1e3-4d75-8eb8-6326908eb218",
   "metadata": {},
   "outputs": [
    {
     "name": "stdout",
     "output_type": "stream",
     "text": [
      "Orbital Period Summary:\n",
      "count    3.590000e+03\n",
      "mean     1.241190e+04\n",
      "std      3.070920e+05\n",
      "min      0.000000e+00\n",
      "25%      3.416908e+00\n",
      "50%      1.123240e+01\n",
      "75%      1.441200e+02\n",
      "max      1.281150e+07\n",
      "Name: orbital_period, dtype: float64\n",
      "\n",
      "Semi-Major Axis Summary:\n",
      "count     3590.000000\n",
      "mean       166.257367\n",
      "std       1383.617082\n",
      "min          0.000000\n",
      "25%          0.048000\n",
      "50%          0.120000\n",
      "75%          1.330000\n",
      "max      38000.000000\n",
      "Name: semi_major_axis, dtype: float64\n"
     ]
    }
   ],
   "source": [
    "orbital_period_summary = eu['orbital_period'].describe()\n",
    "semi_major_axis_summary = eu['semi_major_axis'].describe()\n",
    "\n",
    "print('Orbital Period Summary:')\n",
    "print(orbital_period_summary)\n",
    "print('\\nSemi-Major Axis Summary:')\n",
    "print(semi_major_axis_summary)"
   ]
  },
  {
   "cell_type": "markdown",
   "id": "a5897d22-e668-4c93-b907-178dbd025055",
   "metadata": {},
   "source": [
    "# #3. Work In Progress"
   ]
  },
  {
   "cell_type": "markdown",
   "id": "685cf088-290f-4e5d-ba3f-6833ced9b077",
   "metadata": {},
   "source": [
    "🧐"
   ]
  },
  {
   "cell_type": "markdown",
   "id": "2fe61e9b-c1ff-441d-b7ca-66ddb6decb4f",
   "metadata": {
    "jp-MarkdownHeadingCollapsed": true
   },
   "source": [
    "# #4. What are the most common types of stars hosting exoplanets?"
   ]
  },
  {
   "cell_type": "code",
   "execution_count": 161,
   "id": "d9ec1a95-a351-4c4b-8486-40c427e5bc0b",
   "metadata": {},
   "outputs": [
    {
     "name": "stdout",
     "output_type": "stream",
     "text": [
      "star_type\n",
      "G    1368\n",
      "K     939\n",
      "M     740\n",
      "F     455\n",
      "A      55\n",
      "B      32\n",
      "O       1\n",
      "Name: count, dtype: int64\n"
     ]
    },
    {
     "data": {
      "image/png": "[encoded data removed]",
      "text/plain": [
       "<Figure size 640x480 with 1 Axes>"
      ]
     },
     "metadata": {},
     "output_type": "display_data"
    }
   ],
   "source": [
    "star_type_counts = eu['star_type'].value_counts()\n",
    "print(star_type_counts)\n",
    "\n",
    "star_type_counts = eu['star_type'].value_counts()\n",
    "star_type_counts.plot(kind='bar')\n",
    "plt.xlabel('Star Type')\n",
    "plt.ylabel('Number of Exoplanets Discovered')\n",
    "plt.title('Star Types Hosting Exoplanets');"
   ]
  },
  {
   "cell_type": "code",
   "execution_count": 132,
   "id": "ccdf7281-bad8-4728-b542-e36a32e89f17",
   "metadata": {},
   "outputs": [
    {
     "data": {
      "image/png": "[encoded data removed]",
      "text/plain": [
       "<Figure size 640x480 with 1 Axes>"
      ]
     },
     "metadata": {},
     "output_type": "display_data"
    }
   ],
   "source": [
    "type_discoveries = eu.groupby(['year', 'star_type']).size().unstack().fillna(0)\n",
    "type_discoveries.plot(kind='barh', stacked=True)\n",
    "plt.xlabel('Number of Stars Discovered')\n",
    "plt.ylabel('')\n",
    "plt.title('Discovery of Exoplanet Star Types per Year')\n",
    "plt.legend(title='Star Type');"
   ]
  },
  {
   "cell_type": "code",
   "execution_count": 130,
   "id": "959f4a58-579a-45b2-b4d7-e4827995fdb0",
   "metadata": {},
   "outputs": [
    {
     "name": "stdout",
     "output_type": "stream",
     "text": [
      "Star Mass Summary:\n",
      "count    3590.000000\n",
      "mean        0.943316\n",
      "std         0.774577\n",
      "min         0.000000\n",
      "25%         0.670000\n",
      "50%         0.932400\n",
      "75%         1.120000\n",
      "max        23.470000\n",
      "Name: star_mass, dtype: float64\n",
      "\n",
      "Star Radius Summary:\n",
      "count    3590.000000\n",
      "mean        1.900965\n",
      "std         5.694001\n",
      "min         0.000000\n",
      "25%         0.550000\n",
      "50%         0.898000\n",
      "75%         1.301500\n",
      "max        91.400000\n",
      "Name: star_radius, dtype: float64\n",
      "\n",
      "Star Luminosity Summary:\n",
      "count     3590.000000\n",
      "mean        31.305072\n",
      "std       1113.442727\n",
      "min          0.000000\n",
      "25%          0.246185\n",
      "50%          0.782723\n",
      "75%          1.486836\n",
      "max      62631.932729\n",
      "Name: star_luminosity, dtype: float64\n"
     ]
    }
   ],
   "source": [
    "# Summary statistics for star characteristics\n",
    "star_mass_summary = eu['star_mass'].describe()\n",
    "star_radius_summary = eu['star_radius'].describe()\n",
    "star_luminosity_summary = eu['star_luminosity'].describe()\n",
    "\n",
    "print('Star Mass Summary:')\n",
    "print(star_mass_summary)\n",
    "print('\\nStar Radius Summary:')\n",
    "print(star_radius_summary)\n",
    "print('\\nStar Luminosity Summary:')\n",
    "print(star_luminosity_summary)"
   ]
  },
  {
   "cell_type": "markdown",
   "id": "32d75921-beaa-4ec0-9851-9a95986b44ef",
   "metadata": {
    "jp-MarkdownHeadingCollapsed": true
   },
   "source": [
    "# Habitable Zone Workings 🌎"
   ]
  },
  {
   "cell_type": "code",
   "execution_count": 163,
   "id": "4a404153-7dc6-41b2-995d-bbf981138ff1",
   "metadata": {},
   "outputs": [
    {
     "name": "stdout",
     "output_type": "stream",
     "text": [
      "in_habitable_zone\n",
      "False    3252\n",
      "True      338\n",
      "Name: count, dtype: int64\n"
     ]
    },
    {
     "data": {
      "image/png": "[encoded data removed]",
      "text/plain": [
       "<Figure size 640x480 with 1 Axes>"
      ]
     },
     "metadata": {},
     "output_type": "display_data"
    }
   ],
   "source": [
    "in_habitable_zone_counts = eu['in_habitable_zone'].value_counts()\n",
    "print(in_habitable_zone_counts)\n",
    "\n",
    "star_type_counts = eu['in_habitable_zone'].value_counts()\n",
    "star_type_counts.plot(kind='bar')\n",
    "plt.xlabel('In Habitable Zone')\n",
    "plt.ylabel('')\n",
    "plt.title('Exoplanets Discovered in H-Zone');"
   ]
  },
  {
   "cell_type": "code",
   "execution_count": 157,
   "id": "d8bb11a8-3881-4d11-b104-a16a5af97286",
   "metadata": {},
   "outputs": [
    {
     "data": {
      "image/png": "[encoded data removed]",
      "text/plain": [
       "<Figure size 640x480 with 1 Axes>"
      ]
     },
     "metadata": {},
     "output_type": "display_data"
    }
   ],
   "source": [
    "type_discoveries = eu.groupby(['year', 'in_habitable_zone']).size().unstack().fillna(0)\n",
    "type_discoveries.plot(kind='barh', stacked=True)\n",
    "plt.ylabel('')\n",
    "plt.xlabel('Number of Exoplanets Discovered')\n",
    "plt.title('Number of Exoplanets in the H-Zone per Year')\n",
    "plt.legend(title='In Habitable Zone');"
   ]
  },
  {
   "cell_type": "markdown",
   "id": "f1d59277-a0a6-4d41-a78a-d97b4412be02",
   "metadata": {
    "jp-MarkdownHeadingCollapsed": true
   },
   "source": [
    "# Bringing in Our Solar System 👽"
   ]
  },
  {
   "cell_type": "code",
   "execution_count": 141,
   "id": "be34ffdb-410a-4161-9f3e-6b64f949896c",
   "metadata": {},
   "outputs": [],
   "source": [
    "sol = pd.read_csv(r\"C:\\Users\\datan\\OneDrive\\Desktop\\Capstone\\Exoplanets\\data\\solar_system_nasa_scrape_github.csv\")"
   ]
  },
  {
   "cell_type": "code",
   "execution_count": 143,
   "id": "09bf121d-c01e-4697-b2f6-6a638c97b700",
   "metadata": {},
   "outputs": [
    {
     "data": {
      "text/html": [
       "<div>\n",
       "<style scoped>\n",
       "    .dataframe tbody tr th:only-of-type {\n",
       "        vertical-align: middle;\n",
       "    }\n",
       "\n",
       "    .dataframe tbody tr th {\n",
       "        vertical-align: top;\n",
       "    }\n",
       "\n",
       "    .dataframe thead th {\n",
       "        text-align: right;\n",
       "    }\n",
       "</style>\n",
       "<table border=\"1\" class=\"dataframe\">\n",
       "  <thead>\n",
       "    <tr style=\"text-align: right;\">\n",
       "      <th></th>\n",
       "      <th>planet</th>\n",
       "      <th>mass</th>\n",
       "      <th>diameter</th>\n",
       "      <th>density</th>\n",
       "      <th>gravity</th>\n",
       "      <th>escape_velocity</th>\n",
       "      <th>rotation_period</th>\n",
       "      <th>length_of_day</th>\n",
       "      <th>distance_from_sun</th>\n",
       "      <th>perihelion</th>\n",
       "      <th>...</th>\n",
       "      <th>orbital_velocity</th>\n",
       "      <th>orbital_inclination</th>\n",
       "      <th>orbital_eccentricity</th>\n",
       "      <th>obliquity_to_orbit</th>\n",
       "      <th>mean_temperature</th>\n",
       "      <th>surface_pressure</th>\n",
       "      <th>number_of_moons</th>\n",
       "      <th>has_ring_system</th>\n",
       "      <th>has_global_magnetic_field</th>\n",
       "      <th>has_liquid_water</th>\n",
       "    </tr>\n",
       "  </thead>\n",
       "  <tbody>\n",
       "    <tr>\n",
       "      <th>0</th>\n",
       "      <td>Mercury</td>\n",
       "      <td>0.3300</td>\n",
       "      <td>4879</td>\n",
       "      <td>5427</td>\n",
       "      <td>3.7</td>\n",
       "      <td>4.3</td>\n",
       "      <td>1407.6</td>\n",
       "      <td>4222.6</td>\n",
       "      <td>57.9</td>\n",
       "      <td>46.0</td>\n",
       "      <td>...</td>\n",
       "      <td>47.4</td>\n",
       "      <td>7.0</td>\n",
       "      <td>0.205</td>\n",
       "      <td>0.034</td>\n",
       "      <td>167</td>\n",
       "      <td>0</td>\n",
       "      <td>0</td>\n",
       "      <td>No</td>\n",
       "      <td>Yes</td>\n",
       "      <td>No</td>\n",
       "    </tr>\n",
       "    <tr>\n",
       "      <th>1</th>\n",
       "      <td>Venus</td>\n",
       "      <td>4.8700</td>\n",
       "      <td>12104</td>\n",
       "      <td>5243</td>\n",
       "      <td>8.9</td>\n",
       "      <td>10.4</td>\n",
       "      <td>-5832.5</td>\n",
       "      <td>2802.0</td>\n",
       "      <td>108.2</td>\n",
       "      <td>107.5</td>\n",
       "      <td>...</td>\n",
       "      <td>35.0</td>\n",
       "      <td>3.4</td>\n",
       "      <td>0.007</td>\n",
       "      <td>177.400</td>\n",
       "      <td>464</td>\n",
       "      <td>92</td>\n",
       "      <td>0</td>\n",
       "      <td>No</td>\n",
       "      <td>No</td>\n",
       "      <td>No</td>\n",
       "    </tr>\n",
       "    <tr>\n",
       "      <th>2</th>\n",
       "      <td>Earth</td>\n",
       "      <td>5.9700</td>\n",
       "      <td>12756</td>\n",
       "      <td>5514</td>\n",
       "      <td>9.8</td>\n",
       "      <td>11.2</td>\n",
       "      <td>23.9</td>\n",
       "      <td>24.0</td>\n",
       "      <td>149.6</td>\n",
       "      <td>147.1</td>\n",
       "      <td>...</td>\n",
       "      <td>29.8</td>\n",
       "      <td>0.0</td>\n",
       "      <td>0.017</td>\n",
       "      <td>23.400</td>\n",
       "      <td>15</td>\n",
       "      <td>1</td>\n",
       "      <td>1</td>\n",
       "      <td>No</td>\n",
       "      <td>Yes</td>\n",
       "      <td>Yes</td>\n",
       "    </tr>\n",
       "    <tr>\n",
       "      <th>3</th>\n",
       "      <td>Mars</td>\n",
       "      <td>0.6420</td>\n",
       "      <td>6792</td>\n",
       "      <td>3933</td>\n",
       "      <td>3.7</td>\n",
       "      <td>5.0</td>\n",
       "      <td>24.6</td>\n",
       "      <td>24.7</td>\n",
       "      <td>227.9</td>\n",
       "      <td>206.6</td>\n",
       "      <td>...</td>\n",
       "      <td>24.1</td>\n",
       "      <td>1.9</td>\n",
       "      <td>0.094</td>\n",
       "      <td>25.200</td>\n",
       "      <td>-65</td>\n",
       "      <td>0.01</td>\n",
       "      <td>2</td>\n",
       "      <td>No</td>\n",
       "      <td>No</td>\n",
       "      <td>No</td>\n",
       "    </tr>\n",
       "    <tr>\n",
       "      <th>4</th>\n",
       "      <td>Jupiter</td>\n",
       "      <td>1898.0000</td>\n",
       "      <td>142984</td>\n",
       "      <td>1326</td>\n",
       "      <td>23.1</td>\n",
       "      <td>59.5</td>\n",
       "      <td>9.9</td>\n",
       "      <td>9.9</td>\n",
       "      <td>778.6</td>\n",
       "      <td>740.5</td>\n",
       "      <td>...</td>\n",
       "      <td>13.1</td>\n",
       "      <td>1.3</td>\n",
       "      <td>0.049</td>\n",
       "      <td>3.100</td>\n",
       "      <td>-110</td>\n",
       "      <td>Unknown*</td>\n",
       "      <td>79</td>\n",
       "      <td>Yes</td>\n",
       "      <td>Yes</td>\n",
       "      <td>No</td>\n",
       "    </tr>\n",
       "    <tr>\n",
       "      <th>5</th>\n",
       "      <td>Saturn</td>\n",
       "      <td>568.0000</td>\n",
       "      <td>120536</td>\n",
       "      <td>687</td>\n",
       "      <td>9.0</td>\n",
       "      <td>35.5</td>\n",
       "      <td>10.7</td>\n",
       "      <td>10.7</td>\n",
       "      <td>1433.5</td>\n",
       "      <td>1352.6</td>\n",
       "      <td>...</td>\n",
       "      <td>9.7</td>\n",
       "      <td>2.5</td>\n",
       "      <td>0.057</td>\n",
       "      <td>26.700</td>\n",
       "      <td>-140</td>\n",
       "      <td>Unknown*</td>\n",
       "      <td>62</td>\n",
       "      <td>Yes</td>\n",
       "      <td>Yes</td>\n",
       "      <td>No</td>\n",
       "    </tr>\n",
       "    <tr>\n",
       "      <th>6</th>\n",
       "      <td>Uranus</td>\n",
       "      <td>86.8000</td>\n",
       "      <td>51118</td>\n",
       "      <td>1271</td>\n",
       "      <td>8.7</td>\n",
       "      <td>21.3</td>\n",
       "      <td>-17.2</td>\n",
       "      <td>17.2</td>\n",
       "      <td>2872.5</td>\n",
       "      <td>2741.3</td>\n",
       "      <td>...</td>\n",
       "      <td>6.8</td>\n",
       "      <td>0.8</td>\n",
       "      <td>0.046</td>\n",
       "      <td>97.800</td>\n",
       "      <td>-195</td>\n",
       "      <td>Unknown*</td>\n",
       "      <td>27</td>\n",
       "      <td>Yes</td>\n",
       "      <td>Yes</td>\n",
       "      <td>No</td>\n",
       "    </tr>\n",
       "    <tr>\n",
       "      <th>7</th>\n",
       "      <td>Neptune</td>\n",
       "      <td>102.0000</td>\n",
       "      <td>49528</td>\n",
       "      <td>1638</td>\n",
       "      <td>11.0</td>\n",
       "      <td>23.5</td>\n",
       "      <td>16.1</td>\n",
       "      <td>16.1</td>\n",
       "      <td>4495.1</td>\n",
       "      <td>4444.5</td>\n",
       "      <td>...</td>\n",
       "      <td>5.4</td>\n",
       "      <td>1.8</td>\n",
       "      <td>0.011</td>\n",
       "      <td>28.300</td>\n",
       "      <td>-200</td>\n",
       "      <td>Unknown*</td>\n",
       "      <td>14</td>\n",
       "      <td>Yes</td>\n",
       "      <td>Yes</td>\n",
       "      <td>No</td>\n",
       "    </tr>\n",
       "    <tr>\n",
       "      <th>8</th>\n",
       "      <td>Pluto</td>\n",
       "      <td>0.0146</td>\n",
       "      <td>2370</td>\n",
       "      <td>2095</td>\n",
       "      <td>0.7</td>\n",
       "      <td>1.3</td>\n",
       "      <td>-153.3</td>\n",
       "      <td>153.3</td>\n",
       "      <td>5906.4</td>\n",
       "      <td>4436.8</td>\n",
       "      <td>...</td>\n",
       "      <td>4.7</td>\n",
       "      <td>17.2</td>\n",
       "      <td>0.244</td>\n",
       "      <td>122.500</td>\n",
       "      <td>-225</td>\n",
       "      <td>0.00001</td>\n",
       "      <td>5</td>\n",
       "      <td>No</td>\n",
       "      <td>Unknown</td>\n",
       "      <td>No</td>\n",
       "    </tr>\n",
       "  </tbody>\n",
       "</table>\n",
       "<p>9 rows × 22 columns</p>\n",
       "</div>"
      ],
      "text/plain": [
       "    planet       mass  diameter  density  gravity  escape_velocity  \\\n",
       "0  Mercury     0.3300      4879     5427      3.7              4.3   \n",
       "1    Venus     4.8700     12104     5243      8.9             10.4   \n",
       "2    Earth     5.9700     12756     5514      9.8             11.2   \n",
       "3     Mars     0.6420      6792     3933      3.7              5.0   \n",
       "4  Jupiter  1898.0000    142984     1326     23.1             59.5   \n",
       "5   Saturn   568.0000    120536      687      9.0             35.5   \n",
       "6   Uranus    86.8000     51118     1271      8.7             21.3   \n",
       "7  Neptune   102.0000     49528     1638     11.0             23.5   \n",
       "8    Pluto     0.0146      2370     2095      0.7              1.3   \n",
       "\n",
       "   rotation_period  length_of_day  distance_from_sun  perihelion  ...  \\\n",
       "0           1407.6         4222.6               57.9        46.0  ...   \n",
       "1          -5832.5         2802.0              108.2       107.5  ...   \n",
       "2             23.9           24.0              149.6       147.1  ...   \n",
       "3             24.6           24.7              227.9       206.6  ...   \n",
       "4              9.9            9.9              778.6       740.5  ...   \n",
       "5             10.7           10.7             1433.5      1352.6  ...   \n",
       "6            -17.2           17.2             2872.5      2741.3  ...   \n",
       "7             16.1           16.1             4495.1      4444.5  ...   \n",
       "8           -153.3          153.3             5906.4      4436.8  ...   \n",
       "\n",
       "   orbital_velocity  orbital_inclination  orbital_eccentricity  \\\n",
       "0              47.4                  7.0                 0.205   \n",
       "1              35.0                  3.4                 0.007   \n",
       "2              29.8                  0.0                 0.017   \n",
       "3              24.1                  1.9                 0.094   \n",
       "4              13.1                  1.3                 0.049   \n",
       "5               9.7                  2.5                 0.057   \n",
       "6               6.8                  0.8                 0.046   \n",
       "7               5.4                  1.8                 0.011   \n",
       "8               4.7                 17.2                 0.244   \n",
       "\n",
       "   obliquity_to_orbit  mean_temperature  surface_pressure  number_of_moons  \\\n",
       "0               0.034               167                 0                0   \n",
       "1             177.400               464                92                0   \n",
       "2              23.400                15                 1                1   \n",
       "3              25.200               -65              0.01                2   \n",
       "4               3.100              -110          Unknown*               79   \n",
       "5              26.700              -140          Unknown*               62   \n",
       "6              97.800              -195          Unknown*               27   \n",
       "7              28.300              -200          Unknown*               14   \n",
       "8             122.500              -225           0.00001                5   \n",
       "\n",
       "  has_ring_system  has_global_magnetic_field has_liquid_water  \n",
       "0              No                        Yes               No  \n",
       "1              No                         No               No  \n",
       "2              No                        Yes              Yes  \n",
       "3              No                         No               No  \n",
       "4             Yes                        Yes               No  \n",
       "5             Yes                        Yes               No  \n",
       "6             Yes                        Yes               No  \n",
       "7             Yes                        Yes               No  \n",
       "8              No                    Unknown               No  \n",
       "\n",
       "[9 rows x 22 columns]"
      ]
     },
     "execution_count": 143,
     "metadata": {},
     "output_type": "execute_result"
    }
   ],
   "source": [
    "sol.head(9)"
   ]
  },
  {
   "cell_type": "code",
   "execution_count": 145,
   "id": "264f7903-2201-4a08-9e94-314cf098eefb",
   "metadata": {},
   "outputs": [
    {
     "data": {
      "text/plain": [
       "Index(['planet', 'mass', 'diameter', 'density', 'gravity', 'escape_velocity',\n",
       "       'rotation_period', 'length_of_day', 'distance_from_sun', 'perihelion',\n",
       "       'aphelion', 'orbital_period', 'orbital_velocity', 'orbital_inclination',\n",
       "       'orbital_eccentricity', 'obliquity_to_orbit', 'mean_temperature',\n",
       "       'surface_pressure', 'number_of_moons', 'has_ring_system',\n",
       "       'has_global_magnetic_field', 'has_liquid_water'],\n",
       "      dtype='object')"
      ]
     },
     "execution_count": 145,
     "metadata": {},
     "output_type": "execute_result"
    }
   ],
   "source": [
    "sol.columns"
   ]
  },
  {
   "cell_type": "code",
   "execution_count": null,
   "id": "7eb6e86e-62dd-4596-82fd-27ebbb830eab",
   "metadata": {},
   "outputs": [],
   "source": []
  }
 ],
 "metadata": {
  "kernelspec": {
   "display_name": "Python 3 (ipykernel)",
   "language": "python",
   "name": "python3"
  },
  "language_info": {
   "codemirror_mode": {
    "name": "ipython",
    "version": 3
   },
   "file_extension": ".py",
   "mimetype": "text/x-python",
   "name": "python",
   "nbconvert_exporter": "python",
   "pygments_lexer": "ipython3",
   "version": "3.11.7"
  }
 },
 "nbformat": 4,
 "nbformat_minor": 5
}
